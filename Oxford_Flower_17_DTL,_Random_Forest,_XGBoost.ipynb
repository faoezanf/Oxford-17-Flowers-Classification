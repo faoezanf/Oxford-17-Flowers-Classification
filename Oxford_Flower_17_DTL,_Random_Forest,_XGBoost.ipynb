{
 "cells": [
  {
   "cell_type": "markdown",
   "metadata": {
    "id": "WJFvfB-W6sLS"
   },
   "source": [
    "<b> Fauzan Firdaus (23520011)<br> \n",
    "Nadya Aditama (23520039) </b>"
   ]
  },
  {
   "cell_type": "markdown",
   "metadata": {
    "id": "-lEm4fbAWVXU"
   },
   "source": [
    "# Flower Recognition using Decision Tree Learning, Random Forest, and XGBoost\n",
    "Pada notebook ini, akan dilakukan eksperimen mengenai rekognisi citra bunga dengan melakukan 12 konfigurasi parameter dari algoritma machine learning Decision Tree Learning, Random Forest, dan XGBoost.\n",
    "\n",
    "\n"
   ]
  },
  {
   "cell_type": "markdown",
   "metadata": {
    "id": "ZBszffVg3v5R"
   },
   "source": [
    "## Deskripsi Singkat Dataset\n",
    "![CaptureFlower](https://user-images.githubusercontent.com/15353477/98227599-14368f80-1f8a-11eb-9af1-549adb75746f.PNG)\n",
    "Dataset yang digunakan adalah dataset **Oxford 17 Flower**, terdiri dari 1**7 spesies**, dimana setiap spesies terdiri dari **80 citra**, sehingga total datasetnya adalah **1.360 citra**. Karakteristik data tersebut adalah sebagai berikut\n",
    "\n",
    "\n",
    "*   Citra memiliki ukuran yang bervariasi, namun perbedaan ukurannya tidak jauh (kisaran 500-800 piksel).\n",
    "*   Skala citra bervariasi (portrait, landscape, dan square).\n",
    "*   Posture dan lightning dari citra bervariasi.\n",
    "*   Dalam satu citra bisa terdiri dari lebih dari satu bunga."
   ]
  },
  {
   "cell_type": "markdown",
   "metadata": {
    "id": "ZY4xWtf0e-7e"
   },
   "source": [
    "## Import Package\n",
    "Berikut ini adalah package yang dibutuhkan untuk eksperimen ini"
   ]
  },
  {
   "cell_type": "code",
   "execution_count": 1,
   "metadata": {
    "id": "jR4nb1nCGkVe"
   },
   "outputs": [],
   "source": [
    "import numpy as np\n",
    "import matplotlib.pyplot as plt\n",
    "import cv2\n",
    "import os\n",
    "from sklearn.model_selection import train_test_split\n",
    "from sklearn.model_selection import cross_val_score\n",
    "from skimage.feature import hog\n",
    "from skimage.feature import local_binary_pattern\n",
    "from sklearn.ensemble import RandomForestClassifier\n",
    "from sklearn.metrics import accuracy_score\n",
    "from sklearn.tree import DecisionTreeClassifier\n",
    "import xgboost as xgb\n",
    "%matplotlib inline"
   ]
  },
  {
   "cell_type": "markdown",
   "metadata": {
    "id": "t21IOARc7Foh"
   },
   "source": [
    "## Load Image Data\n",
    "Sebelum dilakukan load data, file citra dikategorikan dalam folder berdasarkan kelas. Setiap gambar disamakan ukurannya menjadi 300 x 300 piksel. Kemudian di-load dengan code berikut"
   ]
  },
  {
   "cell_type": "code",
   "execution_count": 2,
   "metadata": {
    "colab": {
     "base_uri": "https://localhost:8080/"
    },
    "executionInfo": {
     "elapsed": 12015,
     "status": "ok",
     "timestamp": 1604576394741,
     "user": {
      "displayName": "23520011 Fauzan Firdaus",
      "photoUrl": "",
      "userId": "15816717777645704446"
     },
     "user_tz": -420
    },
    "id": "kTtCfjg5RiDe",
    "outputId": "e4302186-50ea-4c85-b6f9-4172e1f142b2"
   },
   "outputs": [
    {
     "name": "stdout",
     "output_type": "stream",
     "text": [
      "gambar ke  1\n",
      "gambar ke  2\n",
      "gambar ke  3\n",
      "gambar ke  4\n",
      "gambar ke  5\n",
      "gambar ke  6\n",
      "gambar ke  7\n",
      "gambar ke  8\n",
      "gambar ke  9\n",
      "gambar ke  10\n",
      "gambar ke  11\n",
      "gambar ke  12\n",
      "gambar ke  13\n",
      "gambar ke  14\n",
      "gambar ke  15\n",
      "gambar ke  16\n",
      "gambar ke  17\n",
      "gambar ke  18\n",
      "gambar ke  19\n",
      "gambar ke  20\n",
      "gambar ke  21\n",
      "gambar ke  22\n",
      "gambar ke  23\n",
      "gambar ke  24\n",
      "gambar ke  25\n",
      "gambar ke  26\n",
      "gambar ke  27\n",
      "gambar ke  28\n",
      "gambar ke  29\n",
      "gambar ke  30\n",
      "gambar ke  31\n",
      "gambar ke  32\n",
      "gambar ke  33\n",
      "gambar ke  34\n",
      "gambar ke  35\n",
      "gambar ke  36\n",
      "gambar ke  37\n",
      "gambar ke  38\n",
      "gambar ke  39\n",
      "gambar ke  40\n",
      "gambar ke  41\n",
      "gambar ke  42\n",
      "gambar ke  43\n",
      "gambar ke  44\n",
      "gambar ke  45\n",
      "gambar ke  46\n",
      "gambar ke  47\n",
      "gambar ke  48\n",
      "gambar ke  49\n",
      "gambar ke  50\n",
      "gambar ke  51\n",
      "gambar ke  52\n",
      "gambar ke  53\n",
      "gambar ke  54\n",
      "gambar ke  55\n",
      "gambar ke  56\n",
      "gambar ke  57\n",
      "gambar ke  58\n",
      "gambar ke  59\n",
      "gambar ke  60\n",
      "gambar ke  61\n",
      "gambar ke  62\n",
      "gambar ke  63\n",
      "gambar ke  64\n",
      "gambar ke  65\n",
      "gambar ke  66\n",
      "gambar ke  67\n",
      "gambar ke  68\n",
      "gambar ke  69\n",
      "gambar ke  70\n",
      "gambar ke  71\n",
      "gambar ke  72\n",
      "gambar ke  73\n",
      "gambar ke  74\n",
      "gambar ke  75\n",
      "gambar ke  76\n",
      "gambar ke  77\n",
      "gambar ke  78\n",
      "gambar ke  79\n",
      "gambar ke  80\n",
      "gambar ke  81\n",
      "gambar ke  82\n",
      "gambar ke  83\n",
      "gambar ke  84\n",
      "gambar ke  85\n",
      "gambar ke  86\n",
      "gambar ke  87\n",
      "gambar ke  88\n",
      "gambar ke  89\n",
      "gambar ke  90\n",
      "gambar ke  91\n",
      "gambar ke  92\n",
      "gambar ke  93\n",
      "gambar ke  94\n",
      "gambar ke  95\n",
      "gambar ke  96\n",
      "gambar ke  97\n",
      "gambar ke  98\n",
      "gambar ke  99\n",
      "gambar ke  100\n",
      "gambar ke  101\n",
      "gambar ke  102\n",
      "gambar ke  103\n",
      "gambar ke  104\n",
      "gambar ke  105\n",
      "gambar ke  106\n",
      "gambar ke  107\n",
      "gambar ke  108\n",
      "gambar ke  109\n",
      "gambar ke  110\n",
      "gambar ke  111\n",
      "gambar ke  112\n",
      "gambar ke  113\n",
      "gambar ke  114\n",
      "gambar ke  115\n",
      "gambar ke  116\n",
      "gambar ke  117\n",
      "gambar ke  118\n",
      "gambar ke  119\n",
      "gambar ke  120\n",
      "gambar ke  121\n",
      "gambar ke  122\n",
      "gambar ke  123\n",
      "gambar ke  124\n",
      "gambar ke  125\n",
      "gambar ke  126\n",
      "gambar ke  127\n",
      "gambar ke  128\n",
      "gambar ke  129\n",
      "gambar ke  130\n",
      "gambar ke  131\n",
      "gambar ke  132\n",
      "gambar ke  133\n",
      "gambar ke  134\n",
      "gambar ke  135\n",
      "gambar ke  136\n",
      "gambar ke  137\n",
      "gambar ke  138\n",
      "gambar ke  139\n",
      "gambar ke  140\n",
      "gambar ke  141\n",
      "gambar ke  142\n",
      "gambar ke  143\n",
      "gambar ke  144\n",
      "gambar ke  145\n",
      "gambar ke  146\n",
      "gambar ke  147\n",
      "gambar ke  148\n",
      "gambar ke  149\n",
      "gambar ke  150\n",
      "gambar ke  151\n",
      "gambar ke  152\n",
      "gambar ke  153\n",
      "gambar ke  154\n",
      "gambar ke  155\n",
      "gambar ke  156\n",
      "gambar ke  157\n",
      "gambar ke  158\n",
      "gambar ke  159\n",
      "gambar ke  160\n",
      "gambar ke  161\n",
      "gambar ke  162\n",
      "gambar ke  163\n",
      "gambar ke  164\n",
      "gambar ke  165\n",
      "gambar ke  166\n",
      "gambar ke  167\n",
      "gambar ke  168\n",
      "gambar ke  169\n",
      "gambar ke  170\n",
      "gambar ke  171\n",
      "gambar ke  172\n",
      "gambar ke  173\n",
      "gambar ke  174\n",
      "gambar ke  175\n",
      "gambar ke  176\n",
      "gambar ke  177\n",
      "gambar ke  178\n",
      "gambar ke  179\n",
      "gambar ke  180\n",
      "gambar ke  181\n",
      "gambar ke  182\n",
      "gambar ke  183\n",
      "gambar ke  184\n",
      "gambar ke  185\n",
      "gambar ke  186\n",
      "gambar ke  187\n",
      "gambar ke  188\n",
      "gambar ke  189\n",
      "gambar ke  190\n",
      "gambar ke  191\n",
      "gambar ke  192\n",
      "gambar ke  193\n",
      "gambar ke  194\n",
      "gambar ke  195\n",
      "gambar ke  196\n",
      "gambar ke  197\n",
      "gambar ke  198\n",
      "gambar ke  199\n",
      "gambar ke  200\n",
      "gambar ke  201\n",
      "gambar ke  202\n",
      "gambar ke  203\n",
      "gambar ke  204\n",
      "gambar ke  205\n",
      "gambar ke  206\n",
      "gambar ke  207\n",
      "gambar ke  208\n",
      "gambar ke  209\n",
      "gambar ke  210\n",
      "gambar ke  211\n",
      "gambar ke  212\n",
      "gambar ke  213\n",
      "gambar ke  214\n",
      "gambar ke  215\n",
      "gambar ke  216\n",
      "gambar ke  217\n",
      "gambar ke  218\n",
      "gambar ke  219\n",
      "gambar ke  220\n",
      "gambar ke  221\n",
      "gambar ke  222\n",
      "gambar ke  223\n",
      "gambar ke  224\n",
      "gambar ke  225\n",
      "gambar ke  226\n",
      "gambar ke  227\n",
      "gambar ke  228\n",
      "gambar ke  229\n",
      "gambar ke  230\n",
      "gambar ke  231\n",
      "gambar ke  232\n",
      "gambar ke  233\n",
      "gambar ke  234\n",
      "gambar ke  235\n",
      "gambar ke  236\n",
      "gambar ke  237\n",
      "gambar ke  238\n",
      "gambar ke  239\n",
      "gambar ke  240\n",
      "gambar ke  241\n",
      "gambar ke  242\n",
      "gambar ke  243\n",
      "gambar ke  244\n",
      "gambar ke  245\n",
      "gambar ke  246\n",
      "gambar ke  247\n",
      "gambar ke  248\n",
      "gambar ke  249\n",
      "gambar ke  250\n",
      "gambar ke  251\n",
      "gambar ke  252\n",
      "gambar ke  253\n",
      "gambar ke  254\n",
      "gambar ke  255\n",
      "gambar ke  256\n",
      "gambar ke  257\n",
      "gambar ke  258\n",
      "gambar ke  259\n",
      "gambar ke  260\n",
      "gambar ke  261\n",
      "gambar ke  262\n",
      "gambar ke  263\n",
      "gambar ke  264\n",
      "gambar ke  265\n",
      "gambar ke  266\n",
      "gambar ke  267\n",
      "gambar ke  268\n",
      "gambar ke  269\n",
      "gambar ke  270\n",
      "gambar ke  271\n",
      "gambar ke  272\n",
      "gambar ke  273\n",
      "gambar ke  274\n",
      "gambar ke  275\n",
      "gambar ke  276\n",
      "gambar ke  277\n",
      "gambar ke  278\n",
      "gambar ke  279\n",
      "gambar ke  280\n",
      "gambar ke  281\n",
      "gambar ke  282\n",
      "gambar ke  283\n",
      "gambar ke  284\n",
      "gambar ke  285\n",
      "gambar ke  286\n",
      "gambar ke  287\n",
      "gambar ke  288\n",
      "gambar ke  289\n",
      "gambar ke  290\n",
      "gambar ke  291\n",
      "gambar ke  292\n",
      "gambar ke  293\n",
      "gambar ke  294\n",
      "gambar ke  295\n",
      "gambar ke  296\n",
      "gambar ke  297\n",
      "gambar ke  298\n",
      "gambar ke  299\n",
      "gambar ke  300\n",
      "gambar ke  301\n",
      "gambar ke  302\n",
      "gambar ke  303\n",
      "gambar ke  304\n",
      "gambar ke  305\n",
      "gambar ke  306\n",
      "gambar ke  307\n",
      "gambar ke  308\n",
      "gambar ke  309\n",
      "gambar ke  310\n",
      "gambar ke  311\n",
      "gambar ke  312\n",
      "gambar ke  313\n",
      "gambar ke  314\n",
      "gambar ke  315\n",
      "gambar ke  316\n",
      "gambar ke  317\n",
      "gambar ke  318\n",
      "gambar ke  319\n",
      "gambar ke  320\n",
      "gambar ke  321\n",
      "gambar ke  322\n",
      "gambar ke  323\n",
      "gambar ke  324\n",
      "gambar ke  325\n",
      "gambar ke  326\n",
      "gambar ke  327\n",
      "gambar ke  328\n",
      "gambar ke  329\n",
      "gambar ke  330\n",
      "gambar ke  331\n",
      "gambar ke  332\n",
      "gambar ke  333\n",
      "gambar ke  334\n",
      "gambar ke  335\n",
      "gambar ke  336\n",
      "gambar ke  337\n",
      "gambar ke  338\n",
      "gambar ke  339\n",
      "gambar ke  340\n",
      "gambar ke  341\n",
      "gambar ke  342\n",
      "gambar ke  343\n",
      "gambar ke  344\n",
      "gambar ke  345\n",
      "gambar ke  346\n",
      "gambar ke  347\n",
      "gambar ke  348\n",
      "gambar ke  349\n",
      "gambar ke  350\n",
      "gambar ke  351\n",
      "gambar ke  352\n",
      "gambar ke  353\n",
      "gambar ke  354\n",
      "gambar ke  355\n",
      "gambar ke  356\n",
      "gambar ke  357\n",
      "gambar ke  358\n",
      "gambar ke  359\n",
      "gambar ke  360\n",
      "gambar ke  361\n",
      "gambar ke  362\n",
      "gambar ke  363\n",
      "gambar ke  364\n",
      "gambar ke  365\n",
      "gambar ke  366\n",
      "gambar ke  367\n",
      "gambar ke  368\n",
      "gambar ke  369\n",
      "gambar ke  370\n",
      "gambar ke  371\n",
      "gambar ke  372\n",
      "gambar ke  373\n",
      "gambar ke  374\n",
      "gambar ke  375\n",
      "gambar ke  376\n",
      "gambar ke  377\n",
      "gambar ke  378\n",
      "gambar ke  379\n",
      "gambar ke  380\n",
      "gambar ke  381\n",
      "gambar ke  382\n",
      "gambar ke  383\n",
      "gambar ke  384\n",
      "gambar ke  385\n",
      "gambar ke  386\n",
      "gambar ke  387\n",
      "gambar ke  388\n",
      "gambar ke  389\n",
      "gambar ke  390\n",
      "gambar ke  391\n",
      "gambar ke  392\n",
      "gambar ke  393\n",
      "gambar ke  394\n",
      "gambar ke  395\n",
      "gambar ke  396\n",
      "gambar ke  397\n",
      "gambar ke  398\n",
      "gambar ke  399\n",
      "gambar ke  400\n",
      "gambar ke  401\n",
      "gambar ke  402\n",
      "gambar ke  403\n",
      "gambar ke  404\n",
      "gambar ke  405\n",
      "gambar ke  406\n",
      "gambar ke  407\n",
      "gambar ke  408\n",
      "gambar ke  409\n",
      "gambar ke  410\n",
      "gambar ke  411\n",
      "gambar ke  412\n",
      "gambar ke  413\n",
      "gambar ke  414\n",
      "gambar ke  415\n",
      "gambar ke  416\n",
      "gambar ke  417\n",
      "gambar ke  418\n",
      "gambar ke  419\n",
      "gambar ke  420\n",
      "gambar ke  421\n",
      "gambar ke  422\n",
      "gambar ke  423\n",
      "gambar ke  424\n",
      "gambar ke  425\n",
      "gambar ke  426\n",
      "gambar ke  427\n",
      "gambar ke  428\n",
      "gambar ke  429\n",
      "gambar ke  430\n",
      "gambar ke  431\n",
      "gambar ke  432\n",
      "gambar ke  433\n",
      "gambar ke  434\n",
      "gambar ke  435\n",
      "gambar ke  436\n",
      "gambar ke  437\n",
      "gambar ke  438\n",
      "gambar ke  439\n",
      "gambar ke  440\n",
      "gambar ke  441\n",
      "gambar ke  442\n",
      "gambar ke  443\n",
      "gambar ke  444\n",
      "gambar ke  445\n",
      "gambar ke  446\n",
      "gambar ke  447\n",
      "gambar ke  448\n",
      "gambar ke  449\n",
      "gambar ke  450\n",
      "gambar ke  451\n",
      "gambar ke  452\n",
      "gambar ke  453\n",
      "gambar ke  454\n",
      "gambar ke  455\n",
      "gambar ke  456\n",
      "gambar ke  457\n",
      "gambar ke  458\n",
      "gambar ke  459\n",
      "gambar ke  460\n",
      "gambar ke  461\n",
      "gambar ke  462\n",
      "gambar ke  463\n",
      "gambar ke  464\n",
      "gambar ke  465\n",
      "gambar ke  466\n",
      "gambar ke  467\n",
      "gambar ke  468\n",
      "gambar ke  469\n",
      "gambar ke  470\n",
      "gambar ke  471\n",
      "gambar ke  472\n",
      "gambar ke  473\n",
      "gambar ke  474\n",
      "gambar ke  475\n",
      "gambar ke  476\n",
      "gambar ke  477\n",
      "gambar ke  478\n",
      "gambar ke  479\n",
      "gambar ke  480\n",
      "gambar ke  481\n",
      "gambar ke  482\n",
      "gambar ke  483\n",
      "gambar ke  484\n",
      "gambar ke  485\n",
      "gambar ke  486\n",
      "gambar ke  487\n",
      "gambar ke  488\n",
      "gambar ke  489\n",
      "gambar ke  490\n",
      "gambar ke  491\n",
      "gambar ke  492\n",
      "gambar ke  493\n",
      "gambar ke  494\n",
      "gambar ke  495\n",
      "gambar ke  496\n",
      "gambar ke  497\n",
      "gambar ke  498\n",
      "gambar ke  499\n",
      "gambar ke  500\n",
      "gambar ke  501\n",
      "gambar ke  502\n",
      "gambar ke  503\n",
      "gambar ke  504\n",
      "gambar ke  505\n",
      "gambar ke  506\n",
      "gambar ke  507\n",
      "gambar ke  508\n",
      "gambar ke  509\n",
      "gambar ke  510\n",
      "gambar ke  511\n",
      "gambar ke  512\n",
      "gambar ke  513\n",
      "gambar ke  514\n",
      "gambar ke  515\n",
      "gambar ke  516\n",
      "gambar ke  517\n",
      "gambar ke  518\n",
      "gambar ke  519\n",
      "gambar ke  520\n",
      "gambar ke  521\n",
      "gambar ke  522\n",
      "gambar ke  523\n",
      "gambar ke  524\n",
      "gambar ke  525\n",
      "gambar ke  526\n",
      "gambar ke  527\n",
      "gambar ke  528\n",
      "gambar ke  529\n",
      "gambar ke  530\n",
      "gambar ke  531\n",
      "gambar ke  532\n",
      "gambar ke  533\n",
      "gambar ke  534\n",
      "gambar ke  535\n",
      "gambar ke  536\n",
      "gambar ke  537\n",
      "gambar ke  538\n",
      "gambar ke  539\n",
      "gambar ke  540\n",
      "gambar ke  541\n",
      "gambar ke  542\n",
      "gambar ke  543\n",
      "gambar ke  544\n",
      "gambar ke  545\n",
      "gambar ke  546\n",
      "gambar ke  547\n",
      "gambar ke  548\n",
      "gambar ke  549\n",
      "gambar ke  550\n",
      "gambar ke  551\n",
      "gambar ke  552\n",
      "gambar ke  553\n",
      "gambar ke  554\n"
     ]
    },
    {
     "name": "stdout",
     "output_type": "stream",
     "text": [
      "gambar ke  555\n",
      "gambar ke  556\n",
      "gambar ke  557\n",
      "gambar ke  558\n",
      "gambar ke  559\n",
      "gambar ke  560\n",
      "gambar ke  561\n",
      "gambar ke  562\n",
      "gambar ke  563\n",
      "gambar ke  564\n",
      "gambar ke  565\n",
      "gambar ke  566\n",
      "gambar ke  567\n",
      "gambar ke  568\n",
      "gambar ke  569\n",
      "gambar ke  570\n",
      "gambar ke  571\n",
      "gambar ke  572\n",
      "gambar ke  573\n",
      "gambar ke  574\n",
      "gambar ke  575\n",
      "gambar ke  576\n",
      "gambar ke  577\n",
      "gambar ke  578\n",
      "gambar ke  579\n",
      "gambar ke  580\n",
      "gambar ke  581\n",
      "gambar ke  582\n",
      "gambar ke  583\n",
      "gambar ke  584\n",
      "gambar ke  585\n",
      "gambar ke  586\n",
      "gambar ke  587\n",
      "gambar ke  588\n",
      "gambar ke  589\n",
      "gambar ke  590\n",
      "gambar ke  591\n",
      "gambar ke  592\n",
      "gambar ke  593\n",
      "gambar ke  594\n",
      "gambar ke  595\n",
      "gambar ke  596\n",
      "gambar ke  597\n",
      "gambar ke  598\n",
      "gambar ke  599\n",
      "gambar ke  600\n",
      "gambar ke  601\n",
      "gambar ke  602\n",
      "gambar ke  603\n",
      "gambar ke  604\n",
      "gambar ke  605\n",
      "gambar ke  606\n",
      "gambar ke  607\n",
      "gambar ke  608\n",
      "gambar ke  609\n",
      "gambar ke  610\n",
      "gambar ke  611\n",
      "gambar ke  612\n",
      "gambar ke  613\n",
      "gambar ke  614\n",
      "gambar ke  615\n",
      "gambar ke  616\n",
      "gambar ke  617\n",
      "gambar ke  618\n",
      "gambar ke  619\n",
      "gambar ke  620\n",
      "gambar ke  621\n",
      "gambar ke  622\n",
      "gambar ke  623\n",
      "gambar ke  624\n",
      "gambar ke  625\n",
      "gambar ke  626\n",
      "gambar ke  627\n",
      "gambar ke  628\n",
      "gambar ke  629\n",
      "gambar ke  630\n",
      "gambar ke  631\n",
      "gambar ke  632\n",
      "gambar ke  633\n",
      "gambar ke  634\n",
      "gambar ke  635\n",
      "gambar ke  636\n",
      "gambar ke  637\n",
      "gambar ke  638\n",
      "gambar ke  639\n",
      "gambar ke  640\n",
      "gambar ke  641\n",
      "gambar ke  642\n",
      "gambar ke  643\n",
      "gambar ke  644\n",
      "gambar ke  645\n",
      "gambar ke  646\n",
      "gambar ke  647\n",
      "gambar ke  648\n",
      "gambar ke  649\n",
      "gambar ke  650\n",
      "gambar ke  651\n",
      "gambar ke  652\n",
      "gambar ke  653\n",
      "gambar ke  654\n",
      "gambar ke  655\n",
      "gambar ke  656\n",
      "gambar ke  657\n",
      "gambar ke  658\n",
      "gambar ke  659\n",
      "gambar ke  660\n",
      "gambar ke  661\n",
      "gambar ke  662\n",
      "gambar ke  663\n",
      "gambar ke  664\n",
      "gambar ke  665\n",
      "gambar ke  666\n",
      "gambar ke  667\n",
      "gambar ke  668\n",
      "gambar ke  669\n",
      "gambar ke  670\n",
      "gambar ke  671\n",
      "gambar ke  672\n",
      "gambar ke  673\n",
      "gambar ke  674\n",
      "gambar ke  675\n",
      "gambar ke  676\n",
      "gambar ke  677\n",
      "gambar ke  678\n",
      "gambar ke  679\n",
      "gambar ke  680\n",
      "gambar ke  681\n",
      "gambar ke  682\n",
      "gambar ke  683\n",
      "gambar ke  684\n",
      "gambar ke  685\n",
      "gambar ke  686\n",
      "gambar ke  687\n",
      "gambar ke  688\n",
      "gambar ke  689\n",
      "gambar ke  690\n",
      "gambar ke  691\n",
      "gambar ke  692\n",
      "gambar ke  693\n",
      "gambar ke  694\n",
      "gambar ke  695\n",
      "gambar ke  696\n",
      "gambar ke  697\n",
      "gambar ke  698\n",
      "gambar ke  699\n",
      "gambar ke  700\n",
      "gambar ke  701\n",
      "gambar ke  702\n",
      "gambar ke  703\n",
      "gambar ke  704\n",
      "gambar ke  705\n",
      "gambar ke  706\n",
      "gambar ke  707\n",
      "gambar ke  708\n",
      "gambar ke  709\n",
      "gambar ke  710\n",
      "gambar ke  711\n",
      "gambar ke  712\n",
      "gambar ke  713\n",
      "gambar ke  714\n",
      "gambar ke  715\n",
      "gambar ke  716\n",
      "gambar ke  717\n",
      "gambar ke  718\n",
      "gambar ke  719\n",
      "gambar ke  720\n",
      "gambar ke  721\n",
      "gambar ke  722\n",
      "gambar ke  723\n",
      "gambar ke  724\n",
      "gambar ke  725\n",
      "gambar ke  726\n",
      "gambar ke  727\n",
      "gambar ke  728\n",
      "gambar ke  729\n",
      "gambar ke  730\n",
      "gambar ke  731\n",
      "gambar ke  732\n",
      "gambar ke  733\n",
      "gambar ke  734\n",
      "gambar ke  735\n",
      "gambar ke  736\n",
      "gambar ke  737\n",
      "gambar ke  738\n",
      "gambar ke  739\n",
      "gambar ke  740\n",
      "gambar ke  741\n",
      "gambar ke  742\n",
      "gambar ke  743\n",
      "gambar ke  744\n",
      "gambar ke  745\n",
      "gambar ke  746\n",
      "gambar ke  747\n",
      "gambar ke  748\n",
      "gambar ke  749\n",
      "gambar ke  750\n",
      "gambar ke  751\n",
      "gambar ke  752\n",
      "gambar ke  753\n",
      "gambar ke  754\n",
      "gambar ke  755\n",
      "gambar ke  756\n",
      "gambar ke  757\n",
      "gambar ke  758\n",
      "gambar ke  759\n",
      "gambar ke  760\n",
      "gambar ke  761\n",
      "gambar ke  762\n",
      "gambar ke  763\n",
      "gambar ke  764\n",
      "gambar ke  765\n",
      "gambar ke  766\n",
      "gambar ke  767\n",
      "gambar ke  768\n",
      "gambar ke  769\n",
      "gambar ke  770\n",
      "gambar ke  771\n",
      "gambar ke  772\n",
      "gambar ke  773\n",
      "gambar ke  774\n",
      "gambar ke  775\n",
      "gambar ke  776\n",
      "gambar ke  777\n",
      "gambar ke  778\n",
      "gambar ke  779\n",
      "gambar ke  780\n",
      "gambar ke  781\n",
      "gambar ke  782\n",
      "gambar ke  783\n",
      "gambar ke  784\n",
      "gambar ke  785\n",
      "gambar ke  786\n",
      "gambar ke  787\n",
      "gambar ke  788\n",
      "gambar ke  789\n",
      "gambar ke  790\n",
      "gambar ke  791\n",
      "gambar ke  792\n",
      "gambar ke  793\n",
      "gambar ke  794\n",
      "gambar ke  795\n",
      "gambar ke  796\n",
      "gambar ke  797\n",
      "gambar ke  798\n",
      "gambar ke  799\n",
      "gambar ke  800\n",
      "gambar ke  801\n",
      "gambar ke  802\n",
      "gambar ke  803\n",
      "gambar ke  804\n",
      "gambar ke  805\n",
      "gambar ke  806\n",
      "gambar ke  807\n",
      "gambar ke  808\n",
      "gambar ke  809\n",
      "gambar ke  810\n",
      "gambar ke  811\n",
      "gambar ke  812\n",
      "gambar ke  813\n",
      "gambar ke  814\n",
      "gambar ke  815\n",
      "gambar ke  816\n",
      "gambar ke  817\n",
      "gambar ke  818\n",
      "gambar ke  819\n",
      "gambar ke  820\n",
      "gambar ke  821\n",
      "gambar ke  822\n",
      "gambar ke  823\n",
      "gambar ke  824\n",
      "gambar ke  825\n",
      "gambar ke  826\n",
      "gambar ke  827\n",
      "gambar ke  828\n",
      "gambar ke  829\n",
      "gambar ke  830\n",
      "gambar ke  831\n",
      "gambar ke  832\n",
      "gambar ke  833\n",
      "gambar ke  834\n",
      "gambar ke  835\n",
      "gambar ke  836\n",
      "gambar ke  837\n",
      "gambar ke  838\n",
      "gambar ke  839\n",
      "gambar ke  840\n",
      "gambar ke  841\n",
      "gambar ke  842\n",
      "gambar ke  843\n",
      "gambar ke  844\n",
      "gambar ke  845\n",
      "gambar ke  846\n",
      "gambar ke  847\n",
      "gambar ke  848\n",
      "gambar ke  849\n",
      "gambar ke  850\n",
      "gambar ke  851\n",
      "gambar ke  852\n",
      "gambar ke  853\n",
      "gambar ke  854\n",
      "gambar ke  855\n",
      "gambar ke  856\n",
      "gambar ke  857\n",
      "gambar ke  858\n",
      "gambar ke  859\n",
      "gambar ke  860\n",
      "gambar ke  861\n",
      "gambar ke  862\n",
      "gambar ke  863\n",
      "gambar ke  864\n",
      "gambar ke  865\n",
      "gambar ke  866\n",
      "gambar ke  867\n",
      "gambar ke  868\n",
      "gambar ke  869\n",
      "gambar ke  870\n",
      "gambar ke  871\n",
      "gambar ke  872\n",
      "gambar ke  873\n",
      "gambar ke  874\n",
      "gambar ke  875\n",
      "gambar ke  876\n",
      "gambar ke  877\n",
      "gambar ke  878\n",
      "gambar ke  879\n",
      "gambar ke  880\n",
      "gambar ke  881\n",
      "gambar ke  882\n",
      "gambar ke  883\n",
      "gambar ke  884\n",
      "gambar ke  885\n",
      "gambar ke  886\n",
      "gambar ke  887\n",
      "gambar ke  888\n",
      "gambar ke  889\n",
      "gambar ke  890\n",
      "gambar ke  891\n",
      "gambar ke  892\n",
      "gambar ke  893\n",
      "gambar ke  894\n",
      "gambar ke  895\n",
      "gambar ke  896\n",
      "gambar ke  897\n",
      "gambar ke  898\n",
      "gambar ke  899\n",
      "gambar ke  900\n",
      "gambar ke  901\n",
      "gambar ke  902\n",
      "gambar ke  903\n",
      "gambar ke  904\n",
      "gambar ke  905\n",
      "gambar ke  906\n",
      "gambar ke  907\n",
      "gambar ke  908\n",
      "gambar ke  909\n",
      "gambar ke  910\n",
      "gambar ke  911\n",
      "gambar ke  912\n",
      "gambar ke  913\n",
      "gambar ke  914\n",
      "gambar ke  915\n",
      "gambar ke  916\n",
      "gambar ke  917\n",
      "gambar ke  918\n",
      "gambar ke  919\n",
      "gambar ke  920\n",
      "gambar ke  921\n",
      "gambar ke  922\n",
      "gambar ke  923\n",
      "gambar ke  924\n",
      "gambar ke  925\n",
      "gambar ke  926\n",
      "gambar ke  927\n",
      "gambar ke  928\n",
      "gambar ke  929\n",
      "gambar ke  930\n",
      "gambar ke  931\n",
      "gambar ke  932\n",
      "gambar ke  933\n",
      "gambar ke  934\n",
      "gambar ke  935\n",
      "gambar ke  936\n",
      "gambar ke  937\n",
      "gambar ke  938\n",
      "gambar ke  939\n",
      "gambar ke  940\n",
      "gambar ke  941\n",
      "gambar ke  942\n",
      "gambar ke  943\n",
      "gambar ke  944\n",
      "gambar ke  945\n",
      "gambar ke  946\n",
      "gambar ke  947\n",
      "gambar ke  948\n",
      "gambar ke  949\n",
      "gambar ke  950\n",
      "gambar ke  951\n",
      "gambar ke  952\n",
      "gambar ke  953\n",
      "gambar ke  954\n",
      "gambar ke  955\n",
      "gambar ke  956\n",
      "gambar ke  957\n",
      "gambar ke  958\n",
      "gambar ke  959\n",
      "gambar ke  960\n",
      "gambar ke  961\n",
      "gambar ke  962\n",
      "gambar ke  963\n",
      "gambar ke  964\n",
      "gambar ke  965\n",
      "gambar ke  966\n",
      "gambar ke  967\n",
      "gambar ke  968\n",
      "gambar ke  969\n",
      "gambar ke  970\n",
      "gambar ke  971\n",
      "gambar ke  972\n",
      "gambar ke  973\n",
      "gambar ke  974\n",
      "gambar ke  975\n",
      "gambar ke  976\n",
      "gambar ke  977\n",
      "gambar ke  978\n",
      "gambar ke  979\n",
      "gambar ke  980\n",
      "gambar ke  981\n",
      "gambar ke  982\n",
      "gambar ke  983\n",
      "gambar ke  984\n",
      "gambar ke  985\n",
      "gambar ke  986\n",
      "gambar ke  987\n",
      "gambar ke  988\n",
      "gambar ke  989\n",
      "gambar ke  990\n",
      "gambar ke  991\n",
      "gambar ke  992\n",
      "gambar ke  993\n",
      "gambar ke  994\n",
      "gambar ke  995\n",
      "gambar ke  996\n",
      "gambar ke  997\n",
      "gambar ke  998\n",
      "gambar ke  999\n",
      "gambar ke  1000\n",
      "gambar ke  1001\n",
      "gambar ke  1002\n",
      "gambar ke  1003\n",
      "gambar ke  1004\n",
      "gambar ke  1005\n",
      "gambar ke  1006\n",
      "gambar ke  1007\n",
      "gambar ke  1008\n",
      "gambar ke  1009\n",
      "gambar ke  1010\n",
      "gambar ke  1011\n",
      "gambar ke  1012\n",
      "gambar ke  1013\n",
      "gambar ke  1014\n",
      "gambar ke  1015\n",
      "gambar ke  1016\n",
      "gambar ke  1017\n",
      "gambar ke  1018\n",
      "gambar ke  1019\n",
      "gambar ke  1020\n",
      "gambar ke  1021\n",
      "gambar ke  1022\n",
      "gambar ke  1023\n",
      "gambar ke  1024\n",
      "gambar ke  1025\n",
      "gambar ke  1026\n",
      "gambar ke  1027\n",
      "gambar ke  1028\n",
      "gambar ke  1029\n",
      "gambar ke  1030\n",
      "gambar ke  1031\n",
      "gambar ke  1032\n",
      "gambar ke  1033\n",
      "gambar ke  1034\n",
      "gambar ke  1035\n",
      "gambar ke  1036\n",
      "gambar ke  1037\n",
      "gambar ke  1038\n",
      "gambar ke  1039\n",
      "gambar ke  1040\n",
      "gambar ke  1041\n",
      "gambar ke  1042\n",
      "gambar ke  1043\n",
      "gambar ke  1044\n",
      "gambar ke  1045\n",
      "gambar ke  1046\n",
      "gambar ke  1047\n",
      "gambar ke  1048\n",
      "gambar ke  1049\n",
      "gambar ke  1050\n",
      "gambar ke  1051\n",
      "gambar ke  1052\n",
      "gambar ke  1053\n",
      "gambar ke  1054\n",
      "gambar ke  1055\n",
      "gambar ke  1056\n",
      "gambar ke  1057\n",
      "gambar ke  1058\n",
      "gambar ke  1059\n",
      "gambar ke  1060\n",
      "gambar ke  1061\n",
      "gambar ke  1062\n",
      "gambar ke  1063\n",
      "gambar ke  1064\n",
      "gambar ke  1065\n",
      "gambar ke  1066\n",
      "gambar ke  1067\n",
      "gambar ke  1068\n",
      "gambar ke  1069\n",
      "gambar ke  1070\n",
      "gambar ke  1071\n",
      "gambar ke  1072\n",
      "gambar ke  1073\n",
      "gambar ke  1074\n",
      "gambar ke  1075\n",
      "gambar ke  1076\n",
      "gambar ke  1077\n",
      "gambar ke  1078\n",
      "gambar ke  1079\n",
      "gambar ke  1080\n",
      "gambar ke  1081\n",
      "gambar ke  1082\n",
      "gambar ke  1083\n",
      "gambar ke  1084\n",
      "gambar ke  1085\n",
      "gambar ke  1086\n",
      "gambar ke  1087\n",
      "gambar ke  1088\n",
      "gambar ke  1089\n",
      "gambar ke  1090\n",
      "gambar ke  1091\n",
      "gambar ke  1092\n",
      "gambar ke  1093\n",
      "gambar ke  1094\n",
      "gambar ke  1095\n",
      "gambar ke  1096\n",
      "gambar ke  1097\n",
      "gambar ke  1098\n"
     ]
    },
    {
     "name": "stdout",
     "output_type": "stream",
     "text": [
      "gambar ke  1099\n",
      "gambar ke  1100\n",
      "gambar ke  1101\n",
      "gambar ke  1102\n",
      "gambar ke  1103\n",
      "gambar ke  1104\n",
      "gambar ke  1105\n",
      "gambar ke  1106\n",
      "gambar ke  1107\n",
      "gambar ke  1108\n",
      "gambar ke  1109\n",
      "gambar ke  1110\n",
      "gambar ke  1111\n",
      "gambar ke  1112\n",
      "gambar ke  1113\n",
      "gambar ke  1114\n",
      "gambar ke  1115\n",
      "gambar ke  1116\n",
      "gambar ke  1117\n",
      "gambar ke  1118\n",
      "gambar ke  1119\n",
      "gambar ke  1120\n",
      "gambar ke  1121\n",
      "gambar ke  1122\n",
      "gambar ke  1123\n",
      "gambar ke  1124\n",
      "gambar ke  1125\n",
      "gambar ke  1126\n",
      "gambar ke  1127\n",
      "gambar ke  1128\n",
      "gambar ke  1129\n",
      "gambar ke  1130\n",
      "gambar ke  1131\n",
      "gambar ke  1132\n",
      "gambar ke  1133\n",
      "gambar ke  1134\n",
      "gambar ke  1135\n",
      "gambar ke  1136\n",
      "gambar ke  1137\n",
      "gambar ke  1138\n",
      "gambar ke  1139\n",
      "gambar ke  1140\n",
      "gambar ke  1141\n",
      "gambar ke  1142\n",
      "gambar ke  1143\n",
      "gambar ke  1144\n",
      "gambar ke  1145\n",
      "gambar ke  1146\n",
      "gambar ke  1147\n",
      "gambar ke  1148\n",
      "gambar ke  1149\n",
      "gambar ke  1150\n",
      "gambar ke  1151\n",
      "gambar ke  1152\n",
      "gambar ke  1153\n",
      "gambar ke  1154\n",
      "gambar ke  1155\n",
      "gambar ke  1156\n",
      "gambar ke  1157\n",
      "gambar ke  1158\n",
      "gambar ke  1159\n",
      "gambar ke  1160\n",
      "gambar ke  1161\n",
      "gambar ke  1162\n",
      "gambar ke  1163\n",
      "gambar ke  1164\n",
      "gambar ke  1165\n",
      "gambar ke  1166\n",
      "gambar ke  1167\n",
      "gambar ke  1168\n",
      "gambar ke  1169\n",
      "gambar ke  1170\n",
      "gambar ke  1171\n",
      "gambar ke  1172\n",
      "gambar ke  1173\n",
      "gambar ke  1174\n",
      "gambar ke  1175\n",
      "gambar ke  1176\n",
      "gambar ke  1177\n",
      "gambar ke  1178\n",
      "gambar ke  1179\n",
      "gambar ke  1180\n",
      "gambar ke  1181\n",
      "gambar ke  1182\n",
      "gambar ke  1183\n",
      "gambar ke  1184\n",
      "gambar ke  1185\n",
      "gambar ke  1186\n",
      "gambar ke  1187\n",
      "gambar ke  1188\n",
      "gambar ke  1189\n",
      "gambar ke  1190\n",
      "gambar ke  1191\n",
      "gambar ke  1192\n",
      "gambar ke  1193\n",
      "gambar ke  1194\n",
      "gambar ke  1195\n",
      "gambar ke  1196\n",
      "gambar ke  1197\n",
      "gambar ke  1198\n",
      "gambar ke  1199\n",
      "gambar ke  1200\n",
      "gambar ke  1201\n",
      "gambar ke  1202\n",
      "gambar ke  1203\n",
      "gambar ke  1204\n",
      "gambar ke  1205\n",
      "gambar ke  1206\n",
      "gambar ke  1207\n",
      "gambar ke  1208\n",
      "gambar ke  1209\n",
      "gambar ke  1210\n",
      "gambar ke  1211\n",
      "gambar ke  1212\n",
      "gambar ke  1213\n",
      "gambar ke  1214\n",
      "gambar ke  1215\n",
      "gambar ke  1216\n",
      "gambar ke  1217\n",
      "gambar ke  1218\n",
      "gambar ke  1219\n",
      "gambar ke  1220\n",
      "gambar ke  1221\n",
      "gambar ke  1222\n",
      "gambar ke  1223\n",
      "gambar ke  1224\n",
      "gambar ke  1225\n",
      "gambar ke  1226\n",
      "gambar ke  1227\n",
      "gambar ke  1228\n",
      "gambar ke  1229\n",
      "gambar ke  1230\n",
      "gambar ke  1231\n",
      "gambar ke  1232\n",
      "gambar ke  1233\n",
      "gambar ke  1234\n",
      "gambar ke  1235\n",
      "gambar ke  1236\n",
      "gambar ke  1237\n",
      "gambar ke  1238\n",
      "gambar ke  1239\n",
      "gambar ke  1240\n",
      "gambar ke  1241\n",
      "gambar ke  1242\n",
      "gambar ke  1243\n",
      "gambar ke  1244\n",
      "gambar ke  1245\n",
      "gambar ke  1246\n",
      "gambar ke  1247\n",
      "gambar ke  1248\n",
      "gambar ke  1249\n",
      "gambar ke  1250\n",
      "gambar ke  1251\n",
      "gambar ke  1252\n",
      "gambar ke  1253\n",
      "gambar ke  1254\n",
      "gambar ke  1255\n",
      "gambar ke  1256\n",
      "gambar ke  1257\n",
      "gambar ke  1258\n",
      "gambar ke  1259\n",
      "gambar ke  1260\n",
      "gambar ke  1261\n",
      "gambar ke  1262\n",
      "gambar ke  1263\n",
      "gambar ke  1264\n",
      "gambar ke  1265\n",
      "gambar ke  1266\n",
      "gambar ke  1267\n",
      "gambar ke  1268\n",
      "gambar ke  1269\n",
      "gambar ke  1270\n",
      "gambar ke  1271\n",
      "gambar ke  1272\n",
      "gambar ke  1273\n",
      "gambar ke  1274\n",
      "gambar ke  1275\n",
      "gambar ke  1276\n",
      "gambar ke  1277\n",
      "gambar ke  1278\n",
      "gambar ke  1279\n",
      "gambar ke  1280\n",
      "gambar ke  1281\n",
      "gambar ke  1282\n",
      "gambar ke  1283\n",
      "gambar ke  1284\n",
      "gambar ke  1285\n",
      "gambar ke  1286\n",
      "gambar ke  1287\n",
      "gambar ke  1288\n",
      "gambar ke  1289\n",
      "gambar ke  1290\n",
      "gambar ke  1291\n",
      "gambar ke  1292\n",
      "gambar ke  1293\n",
      "gambar ke  1294\n",
      "gambar ke  1295\n",
      "gambar ke  1296\n",
      "gambar ke  1297\n",
      "gambar ke  1298\n",
      "gambar ke  1299\n",
      "gambar ke  1300\n",
      "gambar ke  1301\n",
      "gambar ke  1302\n",
      "gambar ke  1303\n",
      "gambar ke  1304\n",
      "gambar ke  1305\n",
      "gambar ke  1306\n",
      "gambar ke  1307\n",
      "gambar ke  1308\n",
      "gambar ke  1309\n",
      "gambar ke  1310\n",
      "gambar ke  1311\n",
      "gambar ke  1312\n",
      "gambar ke  1313\n",
      "gambar ke  1314\n",
      "gambar ke  1315\n",
      "gambar ke  1316\n",
      "gambar ke  1317\n",
      "gambar ke  1318\n",
      "gambar ke  1319\n",
      "gambar ke  1320\n",
      "gambar ke  1321\n",
      "gambar ke  1322\n",
      "gambar ke  1323\n",
      "gambar ke  1324\n",
      "gambar ke  1325\n",
      "gambar ke  1326\n",
      "gambar ke  1327\n",
      "gambar ke  1328\n",
      "gambar ke  1329\n",
      "gambar ke  1330\n",
      "gambar ke  1331\n",
      "gambar ke  1332\n",
      "gambar ke  1333\n",
      "gambar ke  1334\n",
      "gambar ke  1335\n",
      "gambar ke  1336\n",
      "gambar ke  1337\n",
      "gambar ke  1338\n",
      "gambar ke  1339\n",
      "gambar ke  1340\n",
      "gambar ke  1341\n",
      "gambar ke  1342\n",
      "gambar ke  1343\n",
      "gambar ke  1344\n",
      "gambar ke  1345\n",
      "gambar ke  1346\n",
      "gambar ke  1347\n",
      "gambar ke  1348\n",
      "gambar ke  1349\n",
      "gambar ke  1350\n",
      "gambar ke  1351\n",
      "gambar ke  1352\n",
      "gambar ke  1353\n",
      "gambar ke  1354\n",
      "gambar ke  1355\n",
      "gambar ke  1356\n",
      "gambar ke  1357\n",
      "gambar ke  1358\n",
      "gambar ke  1359\n",
      "gambar ke  1360\n"
     ]
    }
   ],
   "source": [
    "DATADIR=\"17flowers\"\n",
    "CATEGORIES=[\"Bluebell\",\"Buttercup\",\"ColtsFoot\",\n",
    "            \"Cowslip\",\"Crocus\",\"Daffodils\",\n",
    "            \"Daisy\",\"Dandelion\",\"Fritillary\",\n",
    "            \"Iris\",\"LilyValley\",\"Pansy\",\n",
    "            \"Snowdrop\",\"Sunflower\",\"Tigerlily\",\n",
    "            \"Tulip\",\"Wildflower\"]\n",
    "training_data=[]\n",
    "i = 1\n",
    "for category in CATEGORIES:\n",
    "    path = os.path.join(DATADIR,category)\n",
    "    class_num=CATEGORIES.index(category)\n",
    "    for img in os.listdir(path):\n",
    "        try:\n",
    "            img_array=cv2.imread(os.path.join(path,img))\n",
    "            new_image=np.asarray(cv2.resize(img_array,(300,300)))\n",
    "            training_data.append([new_image, class_num])\n",
    "            print(\"gambar ke \",i)\n",
    "            i=i+1\n",
    "        except Exception as e:\n",
    "            pass"
   ]
  },
  {
   "cell_type": "markdown",
   "metadata": {
    "id": "5MukGBBWfJ8c"
   },
   "source": [
    "## Split Train and Test Data\n",
    "Dataset dibagi sebesar 80% data latih dan 20% data uji"
   ]
  },
  {
   "cell_type": "code",
   "execution_count": 3,
   "metadata": {
    "id": "R969sGt8IFw9"
   },
   "outputs": [],
   "source": [
    "X = []\n",
    "y = []\n",
    "for image,label in training_data:\n",
    "    X.append(image)\n",
    "    y.append(label)"
   ]
  },
  {
   "cell_type": "code",
   "execution_count": 4,
   "metadata": {
    "id": "EXVB3XjjIwYB"
   },
   "outputs": [],
   "source": [
    "X_train, X_test, y_train, y_test = train_test_split(X, y, test_size=0.20, random_state=42)"
   ]
  },
  {
   "cell_type": "markdown",
   "metadata": {
    "id": "hNIWobrw8uRa"
   },
   "source": [
    "Jumlah data latih dan data uji adalah sebagai berikut"
   ]
  },
  {
   "cell_type": "code",
   "execution_count": 5,
   "metadata": {
    "colab": {
     "base_uri": "https://localhost:8080/"
    },
    "executionInfo": {
     "elapsed": 1113,
     "status": "ok",
     "timestamp": 1604576402156,
     "user": {
      "displayName": "23520011 Fauzan Firdaus",
      "photoUrl": "",
      "userId": "15816717777645704446"
     },
     "user_tz": -420
    },
    "id": "dxP2-IQciu7C",
    "outputId": "328f93ac-58cc-46a1-aa3a-65cde0d25cca"
   },
   "outputs": [
    {
     "name": "stdout",
     "output_type": "stream",
     "text": [
      "Jumlah data latih :  1088\n",
      "Jumlah data uji   :  272\n"
     ]
    }
   ],
   "source": [
    "print(\"Jumlah data latih : \",np.shape(X_train)[0])\n",
    "print(\"Jumlah data uji   : \",np.shape(X_test)[0]) "
   ]
  },
  {
   "cell_type": "markdown",
   "metadata": {
    "id": "kd1JOz5zfQrK"
   },
   "source": [
    "## Preprocessing\n",
    "Fitur yang akan dilihat dalam pengenalan citra bunga adalah fitur warna, bentuk, dan tekstur. Preprocessing yang dilakukan dalam citra tersebut adalah sebagai berikut\n",
    "1.   Konversi ruang warna RGB ke Grayscale\n",
    "2.   Konversi ruang warna RGB ke YCBcr\n",
    "\n"
   ]
  },
  {
   "cell_type": "code",
   "execution_count": 6,
   "metadata": {
    "id": "a5UoXv37MI5a"
   },
   "outputs": [],
   "source": [
    "def preprocessing1(arr):\n",
    "    arr_prep=[]\n",
    "    for i in range(np.shape(arr)[0]):\n",
    "        img=cv2.cvtColor(arr[i], cv2.COLOR_BGR2RGB)\n",
    "        img=cv2.cvtColor(img, cv2.COLOR_RGB2GRAY)\n",
    "        arr_prep.append(img)\n",
    "    return arr_prep"
   ]
  },
  {
   "cell_type": "code",
   "execution_count": 7,
   "metadata": {
    "id": "x-Z3Ejl0LgLh"
   },
   "outputs": [],
   "source": [
    "def preprocessing2(arr):\n",
    "    arr_prep=[]\n",
    "    for i in range(np.shape(arr)[0]):\n",
    "        image=cv2.cvtColor(arr[i], cv2.COLOR_BGR2GRAY)\n",
    "        arr_prep.append(image)\n",
    "    return arr_prep"
   ]
  },
  {
   "cell_type": "code",
   "execution_count": 8,
   "metadata": {
    "id": "Pia55K1XLtPc"
   },
   "outputs": [],
   "source": [
    "def preprocessing3(arr):\n",
    "    arr_prep=[]\n",
    "    for i in range(np.shape(arr)[0]):\n",
    "        image=cv2.cvtColor(arr[i], cv2.COLOR_BGR2YCrCb)\n",
    "        arr_prep.append(image)\n",
    "    return arr_prep"
   ]
  },
  {
   "cell_type": "markdown",
   "metadata": {
    "id": "jMeUeB5pfSic"
   },
   "source": [
    "## Feature Extraction\n",
    "Metode ekstraksi fitur yang digunakan dalam eksperimen ini adalah sebagai berikut\n",
    "1.   HOG (Histogram of Oriented Gradient) sebagai deskriptor bentuk.\n",
    "2.   LBP (Local Binary Pattern) sebagai deskriptor tesktur\n",
    "3.   YCBcr (Color Histogram dari YCBcr) sebagai deskriptor warna\n",
    "\n"
   ]
  },
  {
   "cell_type": "code",
   "execution_count": 9,
   "metadata": {
    "id": "KyDAS85mKxiR"
   },
   "outputs": [],
   "source": [
    "def FtrExtractHOG(img):\n",
    "    ftr,_=hog(img, orientations=9, pixels_per_cell=(50, 50),\n",
    "            cells_per_block=(2, 2), visualize=True, multichannel=False, block_norm= 'L2')\n",
    "    return ftr"
   ]
  },
  {
   "cell_type": "code",
   "execution_count": 10,
   "metadata": {
    "id": "l0Wq60m6MEuu"
   },
   "outputs": [],
   "source": [
    "def FtrExtractLBP(img):\n",
    "    radius = 1\n",
    "    n_points = 8\n",
    "    \n",
    "    lbp = local_binary_pattern(img, n_points, radius, method='uniform')\n",
    "    n_bins = int(lbp.max() + 1)\n",
    "    hist, _ = np.histogram(lbp.ravel(), bins=n_bins, range=(0, n_bins))\n",
    "    hist = hist.astype(\"float\")                         \n",
    "    hist /= (hist.sum() + (1e-7))\n",
    "    return hist"
   ]
  },
  {
   "cell_type": "code",
   "execution_count": 11,
   "metadata": {
    "id": "NHvoY59AMaN4"
   },
   "outputs": [],
   "source": [
    "def FtrExtractYcbcr(img):\n",
    "    features = []\n",
    "\n",
    "    for i in range(0,3):\n",
    "        hist = cv2.calcHist([img],[i],None,[256],[0,256])\n",
    "                        \n",
    "    return np.array(hist).flatten()"
   ]
  },
  {
   "cell_type": "markdown",
   "metadata": {
    "id": "kLeJIijy-x8N"
   },
   "source": [
    "## Proses Preprocessing dan Ekstraksi Fitur\n",
    "Berikut ini adalah proses preprocessing dan ekstraksi fitur"
   ]
  },
  {
   "cell_type": "code",
   "execution_count": 12,
   "metadata": {
    "id": "CCDm1hp5Lxqu"
   },
   "outputs": [],
   "source": [
    "def featureExtraction1(arr):\n",
    "    arr_feature=[]\n",
    "    for i in range(np.shape(arr)[0]):\n",
    "        arr_feature.append(FtrExtractHOG(arr[i]))\n",
    "    return arr_feature\n",
    "\n",
    "def featureExtraction2(arr):\n",
    "    arr_feature=[]\n",
    "    for i in range(np.shape(arr)[0]):\n",
    "        arr_feature.append(FtrExtractLBP(arr[i]))\n",
    "    return arr_feature\n",
    "\n",
    "def featureExtraction3(arr):\n",
    "    arr_feature=[]\n",
    "    for i in range(np.shape(arr)[0]):\n",
    "        arr_feature.append(FtrExtractYcbcr(arr[i]))\n",
    "    return arr_feature"
   ]
  },
  {
   "cell_type": "markdown",
   "metadata": {
    "id": "av7BXFZF-71c"
   },
   "source": [
    "Kemudian dilakukan preprocessing terhadap masing-masing jenis ekstraksi fitur"
   ]
  },
  {
   "cell_type": "code",
   "execution_count": 13,
   "metadata": {
    "id": "RsFXl1tYMNo7"
   },
   "outputs": [],
   "source": [
    "X_trainp_shape=preprocessing1(X_train)\n",
    "X_testp_shape=preprocessing1(X_test)\n",
    "\n",
    "X_trainp_texture=preprocessing2(X_train)\n",
    "X_testp_texture=preprocessing2(X_test)\n",
    "\n",
    "X_trainp_color=preprocessing3(X_train)\n",
    "X_testp_color=preprocessing3(X_test)"
   ]
  },
  {
   "cell_type": "markdown",
   "metadata": {
    "id": "6-d-R0qj_CTV"
   },
   "source": [
    "Ekstraksi fitur bentuk, tekstur, dan warna"
   ]
  },
  {
   "cell_type": "code",
   "execution_count": 14,
   "metadata": {
    "id": "xmjHV48TL5sm"
   },
   "outputs": [],
   "source": [
    "X_trainftr_shape=featureExtraction1(X_trainp_shape)\n",
    "X_testftr_shape=featureExtraction1(X_testp_shape)\n",
    "\n",
    "X_trainftr_texture=featureExtraction2(X_trainp_texture)\n",
    "X_testftr_texture=featureExtraction2(X_testp_texture)\n",
    "\n",
    "X_trainftr_color=featureExtraction3(X_trainp_color)\n",
    "X_testftr_color=featureExtraction3(X_testp_color)"
   ]
  },
  {
   "cell_type": "code",
   "execution_count": 15,
   "metadata": {
    "id": "7BaN03VgUejn"
   },
   "outputs": [],
   "source": [
    "X_trainftr_combined = np.concatenate((X_trainftr_shape,X_trainftr_texture,X_trainftr_color),axis=1)\n",
    "X_testftr_combined = np.concatenate((X_testftr_shape,X_testftr_texture,X_testftr_color),axis=1)"
   ]
  },
  {
   "cell_type": "markdown",
   "metadata": {
    "id": "d9r2DT_E_ZdH"
   },
   "source": [
    "Ukuran dimensi fitur citra adalah sebagai berikut "
   ]
  },
  {
   "cell_type": "code",
   "execution_count": 16,
   "metadata": {
    "colab": {
     "base_uri": "https://localhost:8080/"
    },
    "executionInfo": {
     "elapsed": 50396,
     "status": "ok",
     "timestamp": 1604576459057,
     "user": {
      "displayName": "23520011 Fauzan Firdaus",
      "photoUrl": "",
      "userId": "15816717777645704446"
     },
     "user_tz": -420
    },
    "id": "sXF_An6BjBu_",
    "outputId": "c330031f-1ef0-42ea-a37a-0c7917f6dbe2"
   },
   "outputs": [
    {
     "name": "stdout",
     "output_type": "stream",
     "text": [
      "Dimensi fitur bentuk  :  900\n",
      "Dimensi fitur tekstur :  10\n",
      "Dimensi fitur warna   :  256\n",
      "Dimensi fitur gabungan:  1166\n"
     ]
    }
   ],
   "source": [
    "print(\"Dimensi fitur bentuk  : \",np.shape(X_trainftr_shape)[1])\n",
    "print(\"Dimensi fitur tekstur : \",np.shape(X_trainftr_texture)[1])\n",
    "print(\"Dimensi fitur warna   : \",np.shape(X_trainftr_color)[1])\n",
    "print(\"Dimensi fitur gabungan: \",np.shape(X_trainftr_combined)[1])"
   ]
  },
  {
   "cell_type": "markdown",
   "metadata": {
    "id": "Hx4cdgd_fZbN"
   },
   "source": [
    "## Machine Learning Algorithm\n",
    "Berikut ini adalah algoritma machine learning yang digunakan. Sebelum melakukan tunning parameter, akan dilihat hasil eksperimen per fitur"
   ]
  },
  {
   "cell_type": "markdown",
   "metadata": {
    "id": "rhhLr-mOfdN9"
   },
   "source": [
    "### Random Forest\n",
    "Random Forest merupakan salah satu algoritma machine learning dengan konsep penggabungan pohon (tree) dengan melakukan training pada sample data yang dipilih."
   ]
  },
  {
   "cell_type": "markdown",
   "metadata": {
    "id": "txNHJezofmOn"
   },
   "source": [
    "#### Process Training\n",
    "Proses training dilakukan per fitur, dan kemudian menggabungkan ketiga fitur tersebut"
   ]
  },
  {
   "cell_type": "code",
   "execution_count": 17,
   "metadata": {
    "colab": {
     "base_uri": "https://localhost:8080/"
    },
    "executionInfo": {
     "elapsed": 52187,
     "status": "ok",
     "timestamp": 1604576461629,
     "user": {
      "displayName": "23520011 Fauzan Firdaus",
      "photoUrl": "",
      "userId": "15816717777645704446"
     },
     "user_tz": -420
    },
    "id": "DRgUHvkBMATa",
    "outputId": "f48c235d-3e9d-424d-d5c7-616443f8a2ec"
   },
   "outputs": [
    {
     "data": {
      "text/plain": [
       "RandomForestClassifier(bootstrap=True, ccp_alpha=0.0, class_weight=None,\n",
       "                       criterion='gini', max_depth=None, max_features='auto',\n",
       "                       max_leaf_nodes=None, max_samples=None,\n",
       "                       min_impurity_decrease=0.0, min_impurity_split=None,\n",
       "                       min_samples_leaf=1, min_samples_split=2,\n",
       "                       min_weight_fraction_leaf=0.0, n_estimators=100,\n",
       "                       n_jobs=None, oob_score=False, random_state=42, verbose=0,\n",
       "                       warm_start=False)"
      ]
     },
     "execution_count": 17,
     "metadata": {},
     "output_type": "execute_result"
    }
   ],
   "source": [
    "RF_clf1 = RandomForestClassifier(random_state = 42)\n",
    "RF_clf1.fit(X_trainftr_shape, y_train)"
   ]
  },
  {
   "cell_type": "code",
   "execution_count": 18,
   "metadata": {
    "colab": {
     "base_uri": "https://localhost:8080/"
    },
    "executionInfo": {
     "elapsed": 51855,
     "status": "ok",
     "timestamp": 1604576461944,
     "user": {
      "displayName": "23520011 Fauzan Firdaus",
      "photoUrl": "",
      "userId": "15816717777645704446"
     },
     "user_tz": -420
    },
    "id": "cfaWX4n-Ti5u",
    "outputId": "e0045f5e-bdb6-40ad-ae07-ed41d4befdf6"
   },
   "outputs": [
    {
     "data": {
      "text/plain": [
       "RandomForestClassifier(bootstrap=True, ccp_alpha=0.0, class_weight=None,\n",
       "                       criterion='gini', max_depth=None, max_features='auto',\n",
       "                       max_leaf_nodes=None, max_samples=None,\n",
       "                       min_impurity_decrease=0.0, min_impurity_split=None,\n",
       "                       min_samples_leaf=1, min_samples_split=2,\n",
       "                       min_weight_fraction_leaf=0.0, n_estimators=100,\n",
       "                       n_jobs=None, oob_score=False, random_state=42, verbose=0,\n",
       "                       warm_start=False)"
      ]
     },
     "execution_count": 18,
     "metadata": {},
     "output_type": "execute_result"
    }
   ],
   "source": [
    "RF_clf2 = RandomForestClassifier(random_state = 42)\n",
    "RF_clf2.fit(X_trainftr_texture, y_train)"
   ]
  },
  {
   "cell_type": "code",
   "execution_count": 19,
   "metadata": {
    "colab": {
     "base_uri": "https://localhost:8080/"
    },
    "executionInfo": {
     "elapsed": 52288,
     "status": "ok",
     "timestamp": 1604576462828,
     "user": {
      "displayName": "23520011 Fauzan Firdaus",
      "photoUrl": "",
      "userId": "15816717777645704446"
     },
     "user_tz": -420
    },
    "id": "HmmiC7C-TqRM",
    "outputId": "1eafd0f1-6344-4a3d-a155-e94f54c65253"
   },
   "outputs": [
    {
     "data": {
      "text/plain": [
       "RandomForestClassifier(bootstrap=True, ccp_alpha=0.0, class_weight=None,\n",
       "                       criterion='gini', max_depth=None, max_features='auto',\n",
       "                       max_leaf_nodes=None, max_samples=None,\n",
       "                       min_impurity_decrease=0.0, min_impurity_split=None,\n",
       "                       min_samples_leaf=1, min_samples_split=2,\n",
       "                       min_weight_fraction_leaf=0.0, n_estimators=100,\n",
       "                       n_jobs=None, oob_score=False, random_state=42, verbose=0,\n",
       "                       warm_start=False)"
      ]
     },
     "execution_count": 19,
     "metadata": {},
     "output_type": "execute_result"
    }
   ],
   "source": [
    "RF_clf3 = RandomForestClassifier(random_state = 42)\n",
    "RF_clf3.fit(X_trainftr_color, y_train)"
   ]
  },
  {
   "cell_type": "code",
   "execution_count": 20,
   "metadata": {
    "colab": {
     "base_uri": "https://localhost:8080/"
    },
    "executionInfo": {
     "elapsed": 54425,
     "status": "ok",
     "timestamp": 1604576465540,
     "user": {
      "displayName": "23520011 Fauzan Firdaus",
      "photoUrl": "",
      "userId": "15816717777645704446"
     },
     "user_tz": -420
    },
    "id": "NZWzq5ogU1r3",
    "outputId": "5fc1ea1c-da7d-49df-d89b-62a9e02681ef"
   },
   "outputs": [
    {
     "data": {
      "text/plain": [
       "RandomForestClassifier(bootstrap=True, ccp_alpha=0.0, class_weight=None,\n",
       "                       criterion='gini', max_depth=None, max_features='auto',\n",
       "                       max_leaf_nodes=None, max_samples=None,\n",
       "                       min_impurity_decrease=0.0, min_impurity_split=None,\n",
       "                       min_samples_leaf=1, min_samples_split=2,\n",
       "                       min_weight_fraction_leaf=0.0, n_estimators=100,\n",
       "                       n_jobs=None, oob_score=False, random_state=42, verbose=0,\n",
       "                       warm_start=False)"
      ]
     },
     "execution_count": 20,
     "metadata": {},
     "output_type": "execute_result"
    }
   ],
   "source": [
    "RF_clf4 = RandomForestClassifier(random_state = 42)\n",
    "RF_clf4.fit(X_trainftr_combined, y_train)"
   ]
  },
  {
   "cell_type": "markdown",
   "metadata": {
    "id": "-f3mh2ozftfM"
   },
   "source": [
    "#### Predict and Accuracy\n",
    "Berikut ini adalah hasil prediksi dan akurasi yang dihasilkan dari algoritma **random forest** per deskriptor"
   ]
  },
  {
   "cell_type": "code",
   "execution_count": 21,
   "metadata": {
    "id": "M88JIBZwU-aZ"
   },
   "outputs": [],
   "source": [
    "y_pred_RF_shape =RF_clf1.predict(X_testftr_shape)\n",
    "y_pred_RF_texture = RF_clf2.predict(X_testftr_texture)\n",
    "y_pred_RF_color = RF_clf3.predict(X_testftr_color)\n",
    "y_pred_RF_combined = RF_clf4.predict(X_testftr_combined)"
   ]
  },
  {
   "cell_type": "code",
   "execution_count": 22,
   "metadata": {
    "colab": {
     "base_uri": "https://localhost:8080/"
    },
    "executionInfo": {
     "elapsed": 538,
     "status": "ok",
     "timestamp": 1604576481133,
     "user": {
      "displayName": "23520011 Fauzan Firdaus",
      "photoUrl": "",
      "userId": "15816717777645704446"
     },
     "user_tz": -420
    },
    "id": "DRFtM4MLIl46",
    "outputId": "33791e4b-b6ca-4f9e-d1a9-72f8b8fc7351"
   },
   "outputs": [
    {
     "name": "stdout",
     "output_type": "stream",
     "text": [
      "Shape-RF Accuracy :  48.529411764705884 %\n",
      "Texture-RF Accuracy :  17.647058823529413 %\n",
      "Color-RF Accuracy :  45.588235294117645 %\n",
      "Combined-RF Accuracy :  65.07352941176471 %\n"
     ]
    }
   ],
   "source": [
    "print(\"Shape-RF Accuracy : \",accuracy_score(y_test, y_pred_RF_shape)*100,'%')\n",
    "print(\"Texture-RF Accuracy : \",accuracy_score(y_test, y_pred_RF_texture)*100,'%')\n",
    "print(\"Color-RF Accuracy : \",accuracy_score(y_test, y_pred_RF_color)*100,'%')\n",
    "print(\"Combined-RF Accuracy : \",accuracy_score(y_test, y_pred_RF_combined)*100,'%')"
   ]
  },
  {
   "cell_type": "markdown",
   "metadata": {
    "id": "daWxb9K9f7Pp"
   },
   "source": [
    "### Decision Tree Learning\n",
    "Decision Tree merupakan salah satu algoritma machine learning dengan konsep mengubah data menjadi aturan-aturan keputusan **dalam bentuk tree**"
   ]
  },
  {
   "cell_type": "markdown",
   "metadata": {
    "id": "5jGWpRvngFLn"
   },
   "source": [
    "#### Process Training\n",
    "Proses training dilakukan per fitur, dan kemudian menggabungkan ketiga fitur tersebut"
   ]
  },
  {
   "cell_type": "code",
   "execution_count": 23,
   "metadata": {
    "colab": {
     "base_uri": "https://localhost:8080/"
    },
    "executionInfo": {
     "elapsed": 2409,
     "status": "ok",
     "timestamp": 1604576578674,
     "user": {
      "displayName": "23520011 Fauzan Firdaus",
      "photoUrl": "",
      "userId": "15816717777645704446"
     },
     "user_tz": -420
    },
    "id": "cxKJYIwZjaJb",
    "outputId": "178fd655-1bb8-4254-dbe3-0a666d8bbfe7"
   },
   "outputs": [
    {
     "data": {
      "text/plain": [
       "DecisionTreeClassifier(ccp_alpha=0.0, class_weight=None, criterion='gini',\n",
       "                       max_depth=None, max_features=None, max_leaf_nodes=None,\n",
       "                       min_impurity_decrease=0.0, min_impurity_split=None,\n",
       "                       min_samples_leaf=1, min_samples_split=2,\n",
       "                       min_weight_fraction_leaf=0.0, presort='deprecated',\n",
       "                       random_state=42, splitter='best')"
      ]
     },
     "execution_count": 23,
     "metadata": {},
     "output_type": "execute_result"
    }
   ],
   "source": [
    "DTL_clf1 = DecisionTreeClassifier(random_state=42)\n",
    "DTL_clf1.fit(X_trainftr_shape, y_train)"
   ]
  },
  {
   "cell_type": "code",
   "execution_count": 24,
   "metadata": {
    "colab": {
     "base_uri": "https://localhost:8080/"
    },
    "executionInfo": {
     "elapsed": 1873,
     "status": "ok",
     "timestamp": 1604576578675,
     "user": {
      "displayName": "23520011 Fauzan Firdaus",
      "photoUrl": "",
      "userId": "15816717777645704446"
     },
     "user_tz": -420
    },
    "id": "t5JBMlDiV_Jg",
    "outputId": "e8b2de99-482e-4d79-dca6-c98ff390f57b"
   },
   "outputs": [
    {
     "data": {
      "text/plain": [
       "DecisionTreeClassifier(ccp_alpha=0.0, class_weight=None, criterion='gini',\n",
       "                       max_depth=None, max_features=None, max_leaf_nodes=None,\n",
       "                       min_impurity_decrease=0.0, min_impurity_split=None,\n",
       "                       min_samples_leaf=1, min_samples_split=2,\n",
       "                       min_weight_fraction_leaf=0.0, presort='deprecated',\n",
       "                       random_state=42, splitter='best')"
      ]
     },
     "execution_count": 24,
     "metadata": {},
     "output_type": "execute_result"
    }
   ],
   "source": [
    "DTL_clf2 = DecisionTreeClassifier(random_state=42)\n",
    "DTL_clf2.fit(X_trainftr_texture, y_train)"
   ]
  },
  {
   "cell_type": "code",
   "execution_count": 25,
   "metadata": {
    "colab": {
     "base_uri": "https://localhost:8080/"
    },
    "executionInfo": {
     "elapsed": 1350,
     "status": "ok",
     "timestamp": 1604576578677,
     "user": {
      "displayName": "23520011 Fauzan Firdaus",
      "photoUrl": "",
      "userId": "15816717777645704446"
     },
     "user_tz": -420
    },
    "id": "CC_m1LLCWSJ_",
    "outputId": "55ed39e8-6e7d-40cb-fda2-6e29e6864963"
   },
   "outputs": [
    {
     "data": {
      "text/plain": [
       "DecisionTreeClassifier(ccp_alpha=0.0, class_weight=None, criterion='gini',\n",
       "                       max_depth=None, max_features=None, max_leaf_nodes=None,\n",
       "                       min_impurity_decrease=0.0, min_impurity_split=None,\n",
       "                       min_samples_leaf=1, min_samples_split=2,\n",
       "                       min_weight_fraction_leaf=0.0, presort='deprecated',\n",
       "                       random_state=42, splitter='best')"
      ]
     },
     "execution_count": 25,
     "metadata": {},
     "output_type": "execute_result"
    }
   ],
   "source": [
    "DTL_clf3 = DecisionTreeClassifier(random_state=42)\n",
    "DTL_clf3.fit(X_trainftr_color, y_train)"
   ]
  },
  {
   "cell_type": "code",
   "execution_count": 26,
   "metadata": {
    "colab": {
     "base_uri": "https://localhost:8080/"
    },
    "executionInfo": {
     "elapsed": 2140,
     "status": "ok",
     "timestamp": 1604576580075,
     "user": {
      "displayName": "23520011 Fauzan Firdaus",
      "photoUrl": "",
      "userId": "15816717777645704446"
     },
     "user_tz": -420
    },
    "id": "rx9JDRhzW_3L",
    "outputId": "f2a182ea-f63a-432b-ae47-3cad471524f0"
   },
   "outputs": [
    {
     "data": {
      "text/plain": [
       "DecisionTreeClassifier(ccp_alpha=0.0, class_weight=None, criterion='gini',\n",
       "                       max_depth=None, max_features=None, max_leaf_nodes=None,\n",
       "                       min_impurity_decrease=0.0, min_impurity_split=None,\n",
       "                       min_samples_leaf=1, min_samples_split=2,\n",
       "                       min_weight_fraction_leaf=0.0, presort='deprecated',\n",
       "                       random_state=42, splitter='best')"
      ]
     },
     "execution_count": 26,
     "metadata": {},
     "output_type": "execute_result"
    }
   ],
   "source": [
    "DTL_clf4 = DecisionTreeClassifier(random_state=42)\n",
    "DTL_clf4.fit(X_trainftr_combined, y_train)"
   ]
  },
  {
   "cell_type": "markdown",
   "metadata": {
    "id": "JUJv02TlgYmc"
   },
   "source": [
    "#### Predict and Accuracy\n",
    "Berikut ini adalah hasil prediksi dan akurasi yang dihasilkan dari algoritma **Decision Tree Learning** per deskriptor"
   ]
  },
  {
   "cell_type": "code",
   "execution_count": 27,
   "metadata": {
    "id": "fUCwwilSIMCP"
   },
   "outputs": [],
   "source": [
    "y_pred_DTL_shape = DTL_clf1.predict(X_testftr_shape)\n",
    "y_pred_DTL_texture = DTL_clf2.predict(X_testftr_texture)\n",
    "y_pred_DTL_color = DTL_clf3.predict(X_testftr_color)\n",
    "y_pred_DTL_combined = DTL_clf4.predict(X_testftr_combined)"
   ]
  },
  {
   "cell_type": "code",
   "execution_count": 28,
   "metadata": {
    "colab": {
     "base_uri": "https://localhost:8080/"
    },
    "executionInfo": {
     "elapsed": 854,
     "status": "ok",
     "timestamp": 1604576583992,
     "user": {
      "displayName": "23520011 Fauzan Firdaus",
      "photoUrl": "",
      "userId": "15816717777645704446"
     },
     "user_tz": -420
    },
    "id": "hwyACdBVIVqD",
    "outputId": "c3eede1e-6758-411f-a490-b8e6296ddbae"
   },
   "outputs": [
    {
     "name": "stdout",
     "output_type": "stream",
     "text": [
      "Shape-DTL Accuracy :  25.36764705882353 %\n",
      "Texture-DTL Accuracy :  19.11764705882353 %\n",
      "Color-DTL Accuracy :  31.61764705882353 %\n",
      "Combined-DTL Accuracy :  29.411764705882355 %\n"
     ]
    }
   ],
   "source": [
    "print(\"Shape-DTL Accuracy : \",accuracy_score(y_test, y_pred_DTL_shape)*100,'%')\n",
    "print(\"Texture-DTL Accuracy : \",accuracy_score(y_test, y_pred_DTL_texture)*100,'%')\n",
    "print(\"Color-DTL Accuracy : \",accuracy_score(y_test, y_pred_DTL_color)*100,'%')\n",
    "print(\"Combined-DTL Accuracy : \",accuracy_score(y_test, y_pred_DTL_combined)*100,'%')"
   ]
  },
  {
   "cell_type": "markdown",
   "metadata": {
    "id": "MD3KMpGqwaJL"
   },
   "source": [
    "### XGBoost\n",
    "XGBoost merupakan implementasi dari gradient boosting yang didesain untuk performansi dan kecepatan"
   ]
  },
  {
   "cell_type": "markdown",
   "metadata": {
    "id": "WPw3NivRwq1I"
   },
   "source": [
    "#### Process Training\n",
    "Proses training dilakukan per fitur, dan kemudian menggabungkan ketiga fitur tersebut"
   ]
  },
  {
   "cell_type": "code",
   "execution_count": 29,
   "metadata": {
    "colab": {
     "base_uri": "https://localhost:8080/"
    },
    "executionInfo": {
     "elapsed": 94996,
     "status": "ok",
     "timestamp": 1604576769476,
     "user": {
      "displayName": "23520011 Fauzan Firdaus",
      "photoUrl": "",
      "userId": "15816717777645704446"
     },
     "user_tz": -420
    },
    "id": "86E8SjpBkLMl",
    "outputId": "6aabaefc-1e86-4eeb-f534-42b4a78a6952"
   },
   "outputs": [
    {
     "data": {
      "text/plain": [
       "XGBClassifier(base_score=0.5, booster='gbtree', colsample_bylevel=1,\n",
       "              colsample_bynode=1, colsample_bytree=1, gamma=0,\n",
       "              learning_rate=0.1, max_delta_step=0, max_depth=3,\n",
       "              min_child_weight=1, missing=None, n_estimators=100, n_jobs=1,\n",
       "              nthread=None, objective='multi:softprob', random_state=0,\n",
       "              reg_alpha=0, reg_lambda=1, scale_pos_weight=1, seed=None,\n",
       "              silent=None, subsample=1, verbosity=1)"
      ]
     },
     "execution_count": 29,
     "metadata": {},
     "output_type": "execute_result"
    }
   ],
   "source": [
    "XG_clf1 = xgb.XGBClassifier()\n",
    "XG_clf1.fit(np.asarray(X_trainftr_shape),y_train)"
   ]
  },
  {
   "cell_type": "code",
   "execution_count": 30,
   "metadata": {
    "colab": {
     "base_uri": "https://localhost:8080/"
    },
    "executionInfo": {
     "elapsed": 95937,
     "status": "ok",
     "timestamp": 1604576770683,
     "user": {
      "displayName": "23520011 Fauzan Firdaus",
      "photoUrl": "",
      "userId": "15816717777645704446"
     },
     "user_tz": -420
    },
    "id": "9NU_QaUfJfVu",
    "outputId": "75cfcc24-6b01-4b84-dc53-a0a8e6fe0fdf"
   },
   "outputs": [
    {
     "data": {
      "text/plain": [
       "XGBClassifier(base_score=0.5, booster='gbtree', colsample_bylevel=1,\n",
       "              colsample_bynode=1, colsample_bytree=1, gamma=0,\n",
       "              learning_rate=0.1, max_delta_step=0, max_depth=3,\n",
       "              min_child_weight=1, missing=None, n_estimators=100, n_jobs=1,\n",
       "              nthread=None, objective='multi:softprob', random_state=0,\n",
       "              reg_alpha=0, reg_lambda=1, scale_pos_weight=1, seed=None,\n",
       "              silent=None, subsample=1, verbosity=1)"
      ]
     },
     "execution_count": 30,
     "metadata": {},
     "output_type": "execute_result"
    }
   ],
   "source": [
    "XG_clf2 = xgb.XGBClassifier()\n",
    "XG_clf2.fit(np.asarray(X_trainftr_texture),y_train)"
   ]
  },
  {
   "cell_type": "code",
   "execution_count": 31,
   "metadata": {
    "colab": {
     "base_uri": "https://localhost:8080/"
    },
    "executionInfo": {
     "elapsed": 111853,
     "status": "ok",
     "timestamp": 1604576787003,
     "user": {
      "displayName": "23520011 Fauzan Firdaus",
      "photoUrl": "",
      "userId": "15816717777645704446"
     },
     "user_tz": -420
    },
    "id": "2eBCpQEJJgBy",
    "outputId": "9412d5ff-402f-4da1-a657-4d7a194b4b8a"
   },
   "outputs": [
    {
     "data": {
      "text/plain": [
       "XGBClassifier(base_score=0.5, booster='gbtree', colsample_bylevel=1,\n",
       "              colsample_bynode=1, colsample_bytree=1, gamma=0,\n",
       "              learning_rate=0.1, max_delta_step=0, max_depth=3,\n",
       "              min_child_weight=1, missing=None, n_estimators=100, n_jobs=1,\n",
       "              nthread=None, objective='multi:softprob', random_state=0,\n",
       "              reg_alpha=0, reg_lambda=1, scale_pos_weight=1, seed=None,\n",
       "              silent=None, subsample=1, verbosity=1)"
      ]
     },
     "execution_count": 31,
     "metadata": {},
     "output_type": "execute_result"
    }
   ],
   "source": [
    "XG_clf3 = xgb.XGBClassifier()\n",
    "XG_clf3.fit(np.asarray(X_trainftr_color),y_train)"
   ]
  },
  {
   "cell_type": "code",
   "execution_count": 32,
   "metadata": {
    "colab": {
     "base_uri": "https://localhost:8080/"
    },
    "executionInfo": {
     "elapsed": 221131,
     "status": "ok",
     "timestamp": 1604576896924,
     "user": {
      "displayName": "23520011 Fauzan Firdaus",
      "photoUrl": "",
      "userId": "15816717777645704446"
     },
     "user_tz": -420
    },
    "id": "dDBtVs0zJ61Q",
    "outputId": "1bcc765f-3848-4236-fbbe-3bc685578ccf"
   },
   "outputs": [
    {
     "data": {
      "text/plain": [
       "XGBClassifier(base_score=0.5, booster='gbtree', colsample_bylevel=1,\n",
       "              colsample_bynode=1, colsample_bytree=1, gamma=0,\n",
       "              learning_rate=0.1, max_delta_step=0, max_depth=3,\n",
       "              min_child_weight=1, missing=None, n_estimators=100, n_jobs=1,\n",
       "              nthread=None, objective='multi:softprob', random_state=0,\n",
       "              reg_alpha=0, reg_lambda=1, scale_pos_weight=1, seed=None,\n",
       "              silent=None, subsample=1, verbosity=1)"
      ]
     },
     "execution_count": 32,
     "metadata": {},
     "output_type": "execute_result"
    }
   ],
   "source": [
    "XG_clf4 = xgb.XGBClassifier()\n",
    "XG_clf4.fit(np.asarray(X_trainftr_combined),y_train)"
   ]
  },
  {
   "cell_type": "markdown",
   "metadata": {
    "id": "mtVq9NJZyH4I"
   },
   "source": [
    "#### Predict and Accuracy\n",
    "Berikut ini adalah hasil prediksi dan akurasi yang dihasilkan dari algoritma **XGBoost** per deskriptor"
   ]
  },
  {
   "cell_type": "code",
   "execution_count": 33,
   "metadata": {
    "id": "7u4EJufpx5R1"
   },
   "outputs": [],
   "source": [
    "y_pred_XG_shape = XG_clf1.predict(X_testftr_shape)\n",
    "y_pred_XG_texture = XG_clf2.predict(X_testftr_texture)\n",
    "y_pred_XG_color = XG_clf3.predict(X_testftr_color)\n",
    "y_pred_XG_combined = XG_clf4.predict(X_testftr_combined)"
   ]
  },
  {
   "cell_type": "code",
   "execution_count": 34,
   "metadata": {
    "colab": {
     "base_uri": "https://localhost:8080/"
    },
    "executionInfo": {
     "elapsed": 1096,
     "status": "ok",
     "timestamp": 1604576931196,
     "user": {
      "displayName": "23520011 Fauzan Firdaus",
      "photoUrl": "",
      "userId": "15816717777645704446"
     },
     "user_tz": -420
    },
    "id": "_ixLIrOGx799",
    "outputId": "c5b9da87-f7ed-46aa-8465-cc44c8869012"
   },
   "outputs": [
    {
     "name": "stdout",
     "output_type": "stream",
     "text": [
      "Shape-XG Accuracy :  49.26470588235294 %\n",
      "Texture-XG Accuracy :  19.852941176470587 %\n",
      "Color-XG Accuracy :  41.17647058823529 %\n",
      "Combined-XG Accuracy :  66.54411764705883 %\n"
     ]
    }
   ],
   "source": [
    "print(\"Shape-XG Accuracy : \",accuracy_score(y_test, y_pred_XG_shape)*100,'%')\n",
    "print(\"Texture-XG Accuracy : \",accuracy_score(y_test, y_pred_XG_texture)*100,'%')\n",
    "print(\"Color-XG Accuracy : \",accuracy_score(y_test, y_pred_XG_color)*100,'%')\n",
    "print(\"Combined-XG Accuracy : \",accuracy_score(y_test, y_pred_XG_combined)*100,'%')"
   ]
  },
  {
   "cell_type": "markdown",
   "metadata": {
    "id": "qW-a2KotNDcz"
   },
   "source": [
    "## Konfigurasi Parameter\n",
    "Setelah itu, dilakukan pengujian eksperimen dengan tunning parameter untuk setiap algoritma sejumlah **12 konfigurasi**, dimana setiap algoritma dilakukan **4 konfigurasi**. Fitur yang dimasukkan adalah fitur yang telah digabungkan."
   ]
  },
  {
   "cell_type": "markdown",
   "metadata": {
    "id": "ApOXVkouOSon"
   },
   "source": [
    "### Random Forest\n",
    "Parameter yang ditunning dalam algoritma tersebut adalah sebagai berikut\n",
    "1.   n_estimator (jumlah tree yang akan diestimasi dalam random forest)\n",
    "2.   bootstrap (apakah sampel akan diambil dengan replacement atau tidak)\n",
    "\n",
    "Adapun konfigurasi yang dilakukan adalah berdasarkan tabel berikut\n",
    "\n",
    "| no | n_estimator | bootstrap |\n",
    "| --- | --- | --- |\n",
    "| 1 | 200 | True |\n",
    "| 2 | 200 | False |\n",
    "| 3 | 400 | True |\n",
    "| 4 | 400 | False |"
   ]
  },
  {
   "cell_type": "markdown",
   "metadata": {
    "id": "vpbB5nUkuxI3"
   },
   "source": [
    "##### Random Forest Konfigurasi 1 (n_estimator=200, bootstrap=True)"
   ]
  },
  {
   "cell_type": "code",
   "execution_count": 35,
   "metadata": {
    "colab": {
     "base_uri": "https://localhost:8080/"
    },
    "executionInfo": {
     "elapsed": 5817,
     "status": "ok",
     "timestamp": 1604576598596,
     "user": {
      "displayName": "23520011 Fauzan Firdaus",
      "photoUrl": "",
      "userId": "15816717777645704446"
     },
     "user_tz": -420
    },
    "id": "5NDMDE3WNKCQ",
    "outputId": "c8c63324-83a9-4775-f39d-e581c15a23db"
   },
   "outputs": [
    {
     "name": "stdout",
     "output_type": "stream",
     "text": [
      "RF-Conf1 Accuracy :  65.80882352941177 %\n"
     ]
    }
   ],
   "source": [
    "RF1 = RandomForestClassifier(n_estimators=200, bootstrap=True, random_state = 42)\n",
    "RF1.fit(X_trainftr_combined, y_train)\n",
    "y_pred_RF1 = RF1.predict(X_testftr_combined)\n",
    "print(\"RF-Conf1 Accuracy : \",accuracy_score(y_test, y_pred_RF1)*100,'%')"
   ]
  },
  {
   "cell_type": "markdown",
   "metadata": {
    "id": "zrWRvA9mvB2L"
   },
   "source": [
    "##### Random Forest Konfigurasi 2 (n_estimator=200, bootstrap=False)"
   ]
  },
  {
   "cell_type": "code",
   "execution_count": 36,
   "metadata": {
    "colab": {
     "base_uri": "https://localhost:8080/"
    },
    "executionInfo": {
     "elapsed": 9252,
     "status": "ok",
     "timestamp": 1604576607861,
     "user": {
      "displayName": "23520011 Fauzan Firdaus",
      "photoUrl": "",
      "userId": "15816717777645704446"
     },
     "user_tz": -420
    },
    "id": "BoWokBjeORBs",
    "outputId": "d7341a86-d12f-44ab-a3d8-2b1e27705b5e"
   },
   "outputs": [
    {
     "name": "stdout",
     "output_type": "stream",
     "text": [
      "RF-Conf2 Accuracy :  65.80882352941177 %\n"
     ]
    }
   ],
   "source": [
    "RF2 = RandomForestClassifier(n_estimators=200, bootstrap=False, random_state = 42)\n",
    "RF2.fit(X_trainftr_combined, y_train)\n",
    "y_pred_RF2 = RF2.predict(X_testftr_combined)\n",
    "print(\"RF-Conf2 Accuracy : \",accuracy_score(y_test, y_pred_RF2)*100,'%')"
   ]
  },
  {
   "cell_type": "markdown",
   "metadata": {
    "id": "BHln6zPavPOR"
   },
   "source": [
    "##### Random Forest Konfigurasi 3 (n_estimator=400, bootstrap=True)"
   ]
  },
  {
   "cell_type": "code",
   "execution_count": 37,
   "metadata": {
    "colab": {
     "base_uri": "https://localhost:8080/"
    },
    "executionInfo": {
     "elapsed": 18769,
     "status": "ok",
     "timestamp": 1604576617396,
     "user": {
      "displayName": "23520011 Fauzan Firdaus",
      "photoUrl": "",
      "userId": "15816717777645704446"
     },
     "user_tz": -420
    },
    "id": "jEsh74wiORnv",
    "outputId": "6967146f-01bd-4585-c357-b54e23233418"
   },
   "outputs": [
    {
     "name": "stdout",
     "output_type": "stream",
     "text": [
      "RF-Conf3 Accuracy :  66.17647058823529 %\n"
     ]
    }
   ],
   "source": [
    "RF3 = RandomForestClassifier(n_estimators=400, bootstrap=True, random_state = 42)\n",
    "RF3.fit(X_trainftr_combined, y_train)\n",
    "y_pred_RF3 = RF3.predict(X_testftr_combined)\n",
    "print(\"RF-Conf3 Accuracy : \",accuracy_score(y_test, y_pred_RF3)*100,'%')"
   ]
  },
  {
   "cell_type": "markdown",
   "metadata": {
    "id": "rGSU1PESvTr3"
   },
   "source": [
    "##### Random Forest Konfigurasi 4 (n_estimator=400, bootstrap=False)"
   ]
  },
  {
   "cell_type": "code",
   "execution_count": 38,
   "metadata": {
    "colab": {
     "base_uri": "https://localhost:8080/"
    },
    "executionInfo": {
     "elapsed": 34248,
     "status": "ok",
     "timestamp": 1604576632892,
     "user": {
      "displayName": "23520011 Fauzan Firdaus",
      "photoUrl": "",
      "userId": "15816717777645704446"
     },
     "user_tz": -420
    },
    "id": "kldll3iqOSG1",
    "outputId": "48957686-740f-4156-a2f7-c24171eef888"
   },
   "outputs": [
    {
     "name": "stdout",
     "output_type": "stream",
     "text": [
      "RF-Conf4 Accuracy :  68.01470588235294 %\n"
     ]
    }
   ],
   "source": [
    "RF4 = RandomForestClassifier(n_estimators=400, bootstrap=False, random_state = 42)\n",
    "RF4.fit(X_trainftr_combined, y_train)\n",
    "y_pred_RF4 = RF4.predict(X_testftr_combined)\n",
    "print(\"RF-Conf4 Accuracy : \",accuracy_score(y_test, y_pred_RF4)*100,'%')"
   ]
  },
  {
   "cell_type": "markdown",
   "metadata": {
    "id": "UGxsenxRPtJz"
   },
   "source": [
    "### Decision Tree Learning\n",
    "Parameter yang ditunning dalam algoritma tersebut adalah sebagai berikut\n",
    "1.   criterion (untuk pengukuran kualitas split)\n",
    "2.   min_sample_split (jumlah minimal record yang diperbolehkan untuk di split lagi)\n",
    "\n",
    "Adapun konfigurasi yang dilakukan adalah berdasarkan tabel berikut\n",
    "\n",
    "| no | criterion | min_sample_split |\n",
    "| --- | --- | --- |\n",
    "| 1 | gini | 10 |\n",
    "| 2 | gini | 20 |\n",
    "| 3 | entropy | 10 |\n",
    "| 4 | entropy | 20 |"
   ]
  },
  {
   "cell_type": "markdown",
   "metadata": {
    "id": "jUfnvi51xavy"
   },
   "source": [
    "##### Decision Tree Learning Konfigurasi 1 (criterion=gini, min_sample_split=10)"
   ]
  },
  {
   "cell_type": "code",
   "execution_count": 39,
   "metadata": {
    "colab": {
     "base_uri": "https://localhost:8080/"
    },
    "executionInfo": {
     "elapsed": 1992,
     "status": "ok",
     "timestamp": 1604576939457,
     "user": {
      "displayName": "23520011 Fauzan Firdaus",
      "photoUrl": "",
      "userId": "15816717777645704446"
     },
     "user_tz": -420
    },
    "id": "JyeFnpCmPw5s",
    "outputId": "fd65d28c-58ce-4010-9bed-5ae0a864aa33"
   },
   "outputs": [
    {
     "name": "stdout",
     "output_type": "stream",
     "text": [
      "DTL-Conf1 Accuracy :  34.19117647058824 %\n"
     ]
    }
   ],
   "source": [
    "DTL1 = DecisionTreeClassifier(criterion=\"gini\", min_samples_split=10, random_state=42)\n",
    "DTL1.fit(X_trainftr_combined, y_train)\n",
    "y_pred_DTL1 = DTL1.predict(X_testftr_combined)\n",
    "print(\"DTL-Conf1 Accuracy : \",accuracy_score(y_test, y_pred_DTL1)*100,'%')"
   ]
  },
  {
   "cell_type": "markdown",
   "metadata": {
    "id": "07kwpmyuxm83"
   },
   "source": [
    "##### Decision Tree Learning Konfigurasi 2 (criterion=gini, min_sample_split=20)"
   ]
  },
  {
   "cell_type": "code",
   "execution_count": 40,
   "metadata": {
    "colab": {
     "base_uri": "https://localhost:8080/"
    },
    "executionInfo": {
     "elapsed": 2741,
     "status": "ok",
     "timestamp": 1604576940748,
     "user": {
      "displayName": "23520011 Fauzan Firdaus",
      "photoUrl": "",
      "userId": "15816717777645704446"
     },
     "user_tz": -420
    },
    "id": "S56PcSNIQSGp",
    "outputId": "049f673e-acfa-40ca-9883-77034fb0f808"
   },
   "outputs": [
    {
     "name": "stdout",
     "output_type": "stream",
     "text": [
      "DTL-Conf2 Accuracy :  32.35294117647059 %\n"
     ]
    }
   ],
   "source": [
    "DTL2 = DecisionTreeClassifier(criterion=\"gini\", min_samples_split=20, random_state=42)\n",
    "DTL2.fit(X_trainftr_combined, y_train)\n",
    "y_pred_DTL2 = DTL2.predict(X_testftr_combined)\n",
    "print(\"DTL-Conf2 Accuracy : \",accuracy_score(y_test, y_pred_DTL2)*100,'%')"
   ]
  },
  {
   "cell_type": "markdown",
   "metadata": {
    "id": "p-DpIOlWxqV3"
   },
   "source": [
    "##### Decision Tree Learning Konfigurasi 3 (criterion=entropy, min_sample_split=10)"
   ]
  },
  {
   "cell_type": "code",
   "execution_count": 41,
   "metadata": {
    "colab": {
     "base_uri": "https://localhost:8080/"
    },
    "executionInfo": {
     "elapsed": 6988,
     "status": "ok",
     "timestamp": 1604576945543,
     "user": {
      "displayName": "23520011 Fauzan Firdaus",
      "photoUrl": "",
      "userId": "15816717777645704446"
     },
     "user_tz": -420
    },
    "id": "mhSu2LaxQSmL",
    "outputId": "c0d5ecf0-be15-457b-a02c-95f74fff21c0"
   },
   "outputs": [
    {
     "name": "stdout",
     "output_type": "stream",
     "text": [
      "DTL-Conf3 Accuracy :  34.92647058823529 %\n"
     ]
    }
   ],
   "source": [
    "DTL3 = DecisionTreeClassifier(criterion=\"entropy\", min_samples_split=10, random_state=42)\n",
    "DTL3.fit(X_trainftr_combined, y_train)\n",
    "y_pred_DTL3 = DTL3.predict(X_testftr_combined)\n",
    "print(\"DTL-Conf3 Accuracy : \",accuracy_score(y_test, y_pred_DTL3)*100,'%')"
   ]
  },
  {
   "cell_type": "markdown",
   "metadata": {
    "id": "GHD7tWB6xug-"
   },
   "source": [
    "##### Decision Tree Learning Konfigurasi 4 (criterion=entropy, min_sample_split=20)"
   ]
  },
  {
   "cell_type": "code",
   "execution_count": 42,
   "metadata": {
    "colab": {
     "base_uri": "https://localhost:8080/"
    },
    "executionInfo": {
     "elapsed": 10740,
     "status": "ok",
     "timestamp": 1604576950603,
     "user": {
      "displayName": "23520011 Fauzan Firdaus",
      "photoUrl": "",
      "userId": "15816717777645704446"
     },
     "user_tz": -420
    },
    "id": "xcZb5WzPQTGX",
    "outputId": "43f81101-124a-4262-d297-086f7b384e22"
   },
   "outputs": [
    {
     "name": "stdout",
     "output_type": "stream",
     "text": [
      "DTL-Conf4 Accuracy :  37.86764705882353 %\n"
     ]
    }
   ],
   "source": [
    "DTL4 = DecisionTreeClassifier(criterion=\"entropy\", min_samples_split=20, random_state=42)\n",
    "DTL4.fit(X_trainftr_combined, y_train)\n",
    "y_pred_DTL4 = DTL4.predict(X_testftr_combined)\n",
    "print(\"DTL-Conf4 Accuracy : \",accuracy_score(y_test, y_pred_DTL4)*100,'%')"
   ]
  },
  {
   "cell_type": "markdown",
   "metadata": {
    "id": "6WMzbGuRRXPL"
   },
   "source": [
    "### XGBoost\n",
    "Parameter yang ditunning dalam algoritma tersebut adalah sebagai berikut\n",
    "1.   subsample (persentase data yang diambil untuk membangun setiap tree)\n",
    "2.   learning_rate (ukuran step untuk mencapai solusi yang optimal)\n",
    "\n",
    "Adapun konfigurasi yang dilakukan adalah berdasarkan tabel berikut\n",
    "\n",
    "| no | subsample | learning_rate |\n",
    "| --- | --- | --- |\n",
    "| 1 | 0.75 | 0.01 |\n",
    "| 2 | 0.8 | 0.01 |\n",
    "| 3 | 0.75 | 0.1 |\n",
    "| 4 | 0.8 | 0.1 |"
   ]
  },
  {
   "cell_type": "markdown",
   "metadata": {
    "id": "YJ0__-fqBuOp"
   },
   "source": [
    "##### XGBoost Konfigurasi 1 (subsample=0.75, learning_rate=0.01)"
   ]
  },
  {
   "cell_type": "code",
   "execution_count": 43,
   "metadata": {
    "colab": {
     "base_uri": "https://localhost:8080/"
    },
    "executionInfo": {
     "elapsed": 103524,
     "status": "ok",
     "timestamp": 1604577069988,
     "user": {
      "displayName": "23520011 Fauzan Firdaus",
      "photoUrl": "",
      "userId": "15816717777645704446"
     },
     "user_tz": -420
    },
    "id": "0CqBM-1QRZFC",
    "outputId": "89c2a8de-8574-4aec-cede-5d16f70f1c86"
   },
   "outputs": [
    {
     "name": "stdout",
     "output_type": "stream",
     "text": [
      "XG-Conf1 Accuracy :  62.86764705882353 %\n"
     ]
    }
   ],
   "source": [
    "XG1 = xgb.XGBClassifier(subsample=0.75, learning_rate=0.01)\n",
    "XG1.fit(X_trainftr_combined, y_train)\n",
    "y_pred_XG1 = XG1.predict(X_testftr_combined)\n",
    "print(\"XG-Conf1 Accuracy : \",accuracy_score(y_test, y_pred_XG1)*100,'%')"
   ]
  },
  {
   "cell_type": "markdown",
   "metadata": {
    "id": "nNRRagEtB5Qw"
   },
   "source": [
    "##### XGBoost Konfigurasi 2 (subsample=0.8, learning_rate=0.01)"
   ]
  },
  {
   "cell_type": "code",
   "execution_count": 44,
   "metadata": {
    "colab": {
     "base_uri": "https://localhost:8080/"
    },
    "executionInfo": {
     "elapsed": 206291,
     "status": "ok",
     "timestamp": 1604577176524,
     "user": {
      "displayName": "23520011 Fauzan Firdaus",
      "photoUrl": "",
      "userId": "15816717777645704446"
     },
     "user_tz": -420
    },
    "id": "JRv6STZSS6dg",
    "outputId": "488797a4-916f-401e-977d-09908ecf2f50"
   },
   "outputs": [
    {
     "name": "stdout",
     "output_type": "stream",
     "text": [
      "XG-Conf2 Accuracy :  57.35294117647059 %\n"
     ]
    }
   ],
   "source": [
    "XG2 = xgb.XGBClassifier(subsample=0.8, learning_rate=0.01)\n",
    "XG2.fit(X_trainftr_combined, y_train)\n",
    "y_pred_XG2 = XG2.predict(X_testftr_combined)\n",
    "print(\"XG-Conf2 Accuracy : \",accuracy_score(y_test, y_pred_XG2)*100,'%')"
   ]
  },
  {
   "cell_type": "markdown",
   "metadata": {
    "id": "JW5n7w4sB8nS"
   },
   "source": [
    "##### XGBoost Konfigurasi 3 (subsample=0.75, learning_rate=0.1)"
   ]
  },
  {
   "cell_type": "code",
   "execution_count": 45,
   "metadata": {
    "colab": {
     "base_uri": "https://localhost:8080/"
    },
    "executionInfo": {
     "elapsed": 308934,
     "status": "ok",
     "timestamp": 1604577279689,
     "user": {
      "displayName": "23520011 Fauzan Firdaus",
      "photoUrl": "",
      "userId": "15816717777645704446"
     },
     "user_tz": -420
    },
    "id": "wdwiujOUTpnF",
    "outputId": "594f090e-7e36-44ca-8fc1-8f71ff8d3d8c"
   },
   "outputs": [
    {
     "name": "stdout",
     "output_type": "stream",
     "text": [
      "XG-Conf3 Accuracy :  65.44117647058823 %\n"
     ]
    }
   ],
   "source": [
    "XG3 = xgb.XGBClassifier(subsample=0.75, learning_rate=0.1)\n",
    "XG3.fit(X_trainftr_combined, y_train)\n",
    "y_pred_XG3 = XG3.predict(X_testftr_combined)\n",
    "print(\"XG-Conf3 Accuracy : \",accuracy_score(y_test, y_pred_XG3)*100,'%')"
   ]
  },
  {
   "cell_type": "markdown",
   "metadata": {
    "id": "kRSfrKCzB_9E"
   },
   "source": [
    "##### XGBoost Konfigurasi 4 (subsample=0.8, learning_rate=0.1)"
   ]
  },
  {
   "cell_type": "code",
   "execution_count": 46,
   "metadata": {
    "colab": {
     "base_uri": "https://localhost:8080/"
    },
    "executionInfo": {
     "elapsed": 411725,
     "status": "ok",
     "timestamp": 1604577382918,
     "user": {
      "displayName": "23520011 Fauzan Firdaus",
      "photoUrl": "",
      "userId": "15816717777645704446"
     },
     "user_tz": -420
    },
    "id": "2V647lgFTqUP",
    "outputId": "53365178-8bf8-42b1-bf37-d1906a25eb1f"
   },
   "outputs": [
    {
     "name": "stdout",
     "output_type": "stream",
     "text": [
      "XG-Conf4 Accuracy :  67.27941176470588 %\n"
     ]
    }
   ],
   "source": [
    "XG4 = xgb.XGBClassifier(subsample=0.8, learning_rate=0.1)\n",
    "XG4.fit(X_trainftr_combined, y_train)\n",
    "y_pred_XG4 = XG4.predict(X_testftr_combined)\n",
    "print(\"XG-Conf4 Accuracy : \",accuracy_score(y_test, y_pred_XG4)*100,'%')"
   ]
  },
  {
   "cell_type": "markdown",
   "metadata": {
    "id": "zMjfRy2JyZz8"
   },
   "source": [
    "## Kesimpulan\n",
    "*   Telah dilakukan eksperimen pengenalan citra bunga dengan menggunakan gabungan deskriptor fitur bentuk, tekstur, dan warna.\n",
    "*   Telah dilakukan juga eksperimen dengan mempertimbangkan tiga algoritma, yaitu Random Forest, Decision Tree Learning, dan Random Forest, dan melakukan tunning parameter dengan total 12 konfigurasi untuk keseluruhan.\n",
    "*   Untuk parameter terbaik dari setiap algoritma adalah sebagai berikut\n",
    "    1. **Random Forest** dengan parameter **n_estimtator = 400** dan boostrap = false, menghasilkan akurasi **68.01%**\n",
    "    2. **Decision Tree Learning** dengan parameter **criterion = \"gini\"** dan **min_sample_split = 20**, menghasilkan akurasi **37.8%**\n",
    "    3. **XGBoost** dengan parameter **subsample = 0.8** dan **learning_rate = 0.1**, menghasilkan akurasi **67.27%**\n",
    "\n"
   ]
  }
 ],
 "metadata": {
  "accelerator": "GPU",
  "colab": {
   "collapsed_sections": [],
   "name": "Oxford_Flower_17_DTL,_Random_Forest,_XGBoost.ipynb",
   "provenance": []
  },
  "kernelspec": {
   "display_name": "Python 3",
   "language": "python",
   "name": "python3"
  },
  "language_info": {
   "codemirror_mode": {
    "name": "ipython",
    "version": 3
   },
   "file_extension": ".py",
   "mimetype": "text/x-python",
   "name": "python",
   "nbconvert_exporter": "python",
   "pygments_lexer": "ipython3",
   "version": "3.6.10"
  }
 },
 "nbformat": 4,
 "nbformat_minor": 1
}
